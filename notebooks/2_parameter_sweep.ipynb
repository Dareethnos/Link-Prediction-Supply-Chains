{
 "cells": [
  {
   "cell_type": "markdown",
   "metadata": {},
   "source": [
    "# Running Sweeps 🚀"
   ]
  },
  {
   "cell_type": "code",
   "execution_count": 1,
   "metadata": {},
   "outputs": [],
   "source": [
    "import os\n",
    "os.chdir('../src')"
   ]
  },
  {
   "cell_type": "code",
   "execution_count": 2,
   "metadata": {},
   "outputs": [
    {
     "name": "stderr",
     "output_type": "stream",
     "text": [
      "Using backend: pytorch\n"
     ]
    }
   ],
   "source": [
    "import wandb\n",
    "import yaml\n",
    "from managers.trainer import Trainer\n",
    "from ingestion.dataloader import SCDataLoader\n",
    "from utils import create_model\n",
    "from typing import Dict, Any"
   ]
  },
  {
   "cell_type": "markdown",
   "metadata": {},
   "source": [
    "Loading config files - the normal and the sweep config file."
   ]
  },
  {
   "cell_type": "code",
   "execution_count": 3,
   "metadata": {},
   "outputs": [],
   "source": [
    "os.chdir('..')\n",
    "with open('config/sweep_config.yml', 'r') as yaml_file:\n",
    "    sweep_config_file = yaml.safe_load(yaml_file)"
   ]
  },
  {
   "cell_type": "markdown",
   "metadata": {},
   "source": [
    "Adding in metrics, parameters, and sweeping method into the `sweep_config` variable."
   ]
  },
  {
   "cell_type": "code",
   "execution_count": 4,
   "metadata": {},
   "outputs": [],
   "source": [
    "sweep_config = {\n",
    "    'method': 'bayes',\n",
    "    'parameters': sweep_config_file\n",
    "}"
   ]
  },
  {
   "cell_type": "code",
   "execution_count": 5,
   "metadata": {},
   "outputs": [],
   "source": [
    "metric = {\n",
    "    'name': 'Training AUC buys_from',\n",
    "    'goal': 'minimize'   \n",
    "}\n",
    "sweep_config['metric'] = metric"
   ]
  },
  {
   "cell_type": "markdown",
   "metadata": {},
   "source": [
    "Generate a sweep ID for `project=\"KG-Completion-Sweep\"`"
   ]
  },
  {
   "cell_type": "code",
   "execution_count": 6,
   "metadata": {},
   "outputs": [
    {
     "name": "stdout",
     "output_type": "stream",
     "text": [
      "Create sweep with ID: gft3lks5\n",
      "Sweep URL: https://wandb.ai/grandintegrator/KG-Completion-Sweep/sweeps/gft3lks5\n"
     ]
    }
   ],
   "source": [
    "sweep_id = wandb.sweep(sweep_config, project=\"KG-Completion-Sweep\")"
   ]
  },
  {
   "cell_type": "code",
   "execution_count": 7,
   "metadata": {},
   "outputs": [],
   "source": [
    "def train(config=None):\n",
    "    # Initialize a new weights and biases run\n",
    "    with wandb.init(config=config):\n",
    "        config = wandb.config\n",
    "        data_loader = SCDataLoader(params=config)\n",
    "        train_loader = data_loader.get_training_dataloader()\n",
    "        graph_model = \\\n",
    "            create_model(params=config,\n",
    "                         graph_edge_types=data_loader.edge_types)\n",
    "        trainer = Trainer(params=config, model=graph_model,\n",
    "                          train_data_loader=train_loader)\n",
    "        trainer.train()"
   ]
  },
  {
   "cell_type": "code",
   "execution_count": null,
   "metadata": {},
   "outputs": [
    {
     "name": "stderr",
     "output_type": "stream",
     "text": [
      "INFO:wandb.agents.pyagent:Starting sweep agent: entity=None, project=None, count=20\n",
      "\u001b[34m\u001b[1mwandb\u001b[0m: Agent Starting Run: 8lsways4 with config:\n",
      "\u001b[34m\u001b[1mwandb\u001b[0m: \tbatch_size: 128\n",
      "\u001b[34m\u001b[1mwandb\u001b[0m: \tcapability_product_weight_cut: 200\n",
      "\u001b[34m\u001b[1mwandb\u001b[0m: \tcg_weight_cut: 30\n",
      "\u001b[34m\u001b[1mwandb\u001b[0m: \tdevice: cpu\n",
      "\u001b[34m\u001b[1mwandb\u001b[0m: \teval_type: validation\n",
      "\u001b[34m\u001b[1mwandb\u001b[0m: \tevaluate_every: 3\n",
      "\u001b[34m\u001b[1mwandb\u001b[0m: \tfrom_scratch: False\n",
      "\u001b[34m\u001b[1mwandb\u001b[0m: \tgraph_save_path: data/02_intermediate/\n",
      "\u001b[34m\u001b[1mwandb\u001b[0m: \tl2_regularisation: 0.05\n",
      "\u001b[34m\u001b[1mwandb\u001b[0m: \tload_graph: True\n",
      "\u001b[34m\u001b[1mwandb\u001b[0m: \tlog_company_accuracy: False\n",
      "\u001b[34m\u001b[1mwandb\u001b[0m: \tlog_freq: 20\n",
      "\u001b[34m\u001b[1mwandb\u001b[0m: \tloss: binary_cross_entropy\n",
      "\u001b[34m\u001b[1mwandb\u001b[0m: \tlr: 1e-05\n",
      "\u001b[34m\u001b[1mwandb\u001b[0m: \tmomentum: 0.05\n",
      "\u001b[34m\u001b[1mwandb\u001b[0m: \tnum_classes: 2\n",
      "\u001b[34m\u001b[1mwandb\u001b[0m: \tnum_epochs: 1000\n",
      "\u001b[34m\u001b[1mwandb\u001b[0m: \tnum_hidden_graph_layers: 16\n",
      "\u001b[34m\u001b[1mwandb\u001b[0m: \tnum_negative_samples: 50\n",
      "\u001b[34m\u001b[1mwandb\u001b[0m: \tnum_node_features: 2\n",
      "\u001b[34m\u001b[1mwandb\u001b[0m: \tnum_workers: 0\n",
      "\u001b[34m\u001b[1mwandb\u001b[0m: \toptimiser: Adam\n",
      "\u001b[34m\u001b[1mwandb\u001b[0m: \tsave_train_results: False\n",
      "\u001b[34m\u001b[1mwandb\u001b[0m: \tstream_wandb: True\n",
      "\u001b[34m\u001b[1mwandb\u001b[0m: \ttest_p: 0.1\n",
      "\u001b[34m\u001b[1mwandb\u001b[0m: \ttriplets_from_scratch: False\n",
      "\u001b[34m\u001b[1mwandb\u001b[0m: \tvalid_p: 0.2\n",
      "\u001b[34m\u001b[1mwandb\u001b[0m: Currently logged in as: \u001b[33mgrandintegrator\u001b[0m (use `wandb login --relogin` to force relogin)\n"
     ]
    },
    {
     "data": {
      "text/html": [
       "\n",
       "                Tracking run with wandb version 0.10.31<br/>\n",
       "                Syncing run <strong style=\"color:#cdcd00\">vibrant-sweep-1</strong> to <a href=\"https://wandb.ai\" target=\"_blank\">Weights & Biases</a> <a href=\"https://docs.wandb.com/integrations/jupyter.html\" target=\"_blank\">(Documentation)</a>.<br/>\n",
       "                Project page: <a href=\"https://wandb.ai/grandintegrator/KG-Completion-Sweep\" target=\"_blank\">https://wandb.ai/grandintegrator/KG-Completion-Sweep</a><br/>\n",
       "                Sweep page: <a href=\"https://wandb.ai/grandintegrator/KG-Completion-Sweep/sweeps/gft3lks5\" target=\"_blank\">https://wandb.ai/grandintegrator/KG-Completion-Sweep/sweeps/gft3lks5</a><br/>\n",
       "Run page: <a href=\"https://wandb.ai/grandintegrator/KG-Completion-Sweep/runs/8lsways4\" target=\"_blank\">https://wandb.ai/grandintegrator/KG-Completion-Sweep/runs/8lsways4</a><br/>\n",
       "                Run data is saved locally in <code>/Users/tim-bhp/PycharmProjects/link_predictions_supply_chains/Link-Prediction-Supply-Chains/wandb/run-20210610_103819-8lsways4</code><br/><br/>\n",
       "            "
      ],
      "text/plain": [
       "<IPython.core.display.HTML object>"
      ]
     },
     "metadata": {},
     "output_type": "display_data"
    },
    {
     "name": "stderr",
     "output_type": "stream",
     "text": [
      "INFO:ingestion.dataset:Graphs loaded locally with the following dimensions:\n",
      "INFO:ingestion.dataset:====================================================\n",
      "INFO:ingestion.dataset:cG should have 14018 edges\n",
      "INFO:ingestion.dataset:bG should have 119618 edges\n",
      "INFO:ingestion.dataset:G should have 88997 edges\n",
      "INFO:ingestion.dataset:capability_product_graph should have 21575 edges\n",
      "INFO:ingestion.dataset:company_capability_graph should have 83787 edges\n",
      "INFO:ingestion.dataset:36 Capabilities\n",
      "INFO:ingestion.dataset:119618 Processes\n",
      "INFO:ingestion.dataset:41826 Companies\n",
      "INFO:ingestion.dataset:====================================================\n",
      "INFO:ingestion.dgl_dataset:All graphs loaded to memory - moving to process...\n",
      "INFO:ingestion.dgl_dataset:Triplets loaded from memory, processing to torch...\n",
      "\u001b[34m\u001b[1mwandb\u001b[0m: \u001b[33mWARNING\u001b[0m Config item 'lr' was locked by 'sweep' (ignored update).\n",
      "\u001b[34m\u001b[1mwandb\u001b[0m: \u001b[33mWARNING\u001b[0m Config item 'l2_regularisation' was locked by 'sweep' (ignored update).\n",
      " 28%|██▊       | 1000/3544 [03:02<07:43,  5.49it/s, loss=2.178]\n"
     ]
    },
    {
     "data": {
      "text/html": [
       "<br/>Waiting for W&B process to finish, PID 70963<br/>Program ended successfully."
      ],
      "text/plain": [
       "<IPython.core.display.HTML object>"
      ]
     },
     "metadata": {},
     "output_type": "display_data"
    },
    {
     "data": {
      "application/vnd.jupyter.widget-view+json": {
       "model_id": "3096d94177a8465ba5b80aff29ae32e9",
       "version_major": 2,
       "version_minor": 0
      },
      "text/plain": [
       "VBox(children=(Label(value=' 0.01MB of 0.01MB uploaded (0.00MB deduped)\\r'), FloatProgress(value=1.0, max=1.0)…"
      ]
     },
     "metadata": {},
     "output_type": "display_data"
    },
    {
     "data": {
      "text/html": [
       "Find user logs for this run at: <code>/Users/tim-bhp/PycharmProjects/link_predictions_supply_chains/Link-Prediction-Supply-Chains/wandb/run-20210610_103819-8lsways4/logs/debug.log</code>"
      ],
      "text/plain": [
       "<IPython.core.display.HTML object>"
      ]
     },
     "metadata": {},
     "output_type": "display_data"
    },
    {
     "data": {
      "text/html": [
       "Find internal logs for this run at: <code>/Users/tim-bhp/PycharmProjects/link_predictions_supply_chains/Link-Prediction-Supply-Chains/wandb/run-20210610_103819-8lsways4/logs/debug-internal.log</code>"
      ],
      "text/plain": [
       "<IPython.core.display.HTML object>"
      ]
     },
     "metadata": {},
     "output_type": "display_data"
    },
    {
     "data": {
      "text/html": [
       "<h3>Run summary:</h3><br/><style>\n",
       "    table.wandb td:nth-child(1) { padding: 0 10px; text-align: right }\n",
       "    </style><table class=\"wandb\">\n",
       "<tr><td>_runtime</td><td>192</td></tr><tr><td>_timestamp</td><td>1623292891</td></tr><tr><td>_step</td><td>999</td></tr><tr><td>epoch</td><td>999</td></tr><tr><td>Training loss</td><td>2.02813</td></tr><tr><td>Training AUC capability_produces</td><td>0.32222</td></tr><tr><td>Training AUC buys_from</td><td>0.62148</td></tr><tr><td>Training AUC has_capability</td><td>0.44785</td></tr><tr><td>Training AUC has_cert</td><td>0.52361</td></tr><tr><td>Training AUC located_in</td><td>0.41</td></tr><tr><td>Training AUC makes_product</td><td>0.49501</td></tr><tr><td>Training AUC complimentary_product_to</td><td>0.53542</td></tr><tr><td>Training AP capability_produces</td><td>0.07442</td></tr><tr><td>Training AP buys_from</td><td>0.24631</td></tr><tr><td>Training AP has_capability</td><td>0.08254</td></tr><tr><td>Training AP has_cert</td><td>0.11368</td></tr><tr><td>Training AP located_in</td><td>0.08168</td></tr><tr><td>Training AP makes_product</td><td>0.12793</td></tr><tr><td>Training AP complimentary_product_to</td><td>0.09845</td></tr></table>"
      ],
      "text/plain": [
       "<IPython.core.display.HTML object>"
      ]
     },
     "metadata": {},
     "output_type": "display_data"
    },
    {
     "data": {
      "text/html": [
       "<h3>Run history:</h3><br/><style>\n",
       "    table.wandb td:nth-child(1) { padding: 0 10px; text-align: right }\n",
       "    </style><table class=\"wandb\">\n",
       "<tr><td>_runtime</td><td>▁▁▁▁▂▂▂▂▂▃▃▃▃▃▃▄▄▄▄▄▅▅▅▅▅▆▆▆▆▆▆▇▇▇▇▇████</td></tr><tr><td>_timestamp</td><td>▁▁▁▁▂▂▂▂▂▃▃▃▃▃▃▄▄▄▄▄▅▅▅▅▅▆▆▆▆▆▆▇▇▇▇▇████</td></tr><tr><td>_step</td><td>▁▁▁▁▂▂▂▂▂▃▃▃▃▃▃▄▄▄▄▄▄▅▅▅▅▅▆▆▆▆▆▆▇▇▇▇▇███</td></tr><tr><td>epoch</td><td>▁▁▁▁▂▂▂▂▂▃▃▃▃▃▃▄▄▄▄▄▅▅▅▅▅▅▆▆▆▆▆▆▇▇▇▇▇███</td></tr><tr><td>Training loss</td><td>▄▆▆█▄█▃▂▆▃▄▅▇▃▅▅▂▄▄▇▃▂▅▄▆▂▄▄▇▃▆▅▄▂▃▂▁▃▁▁</td></tr><tr><td>Training AUC capability_produces</td><td>▄▃▄█▄▄▃▃▅▄▅▄▆▆▅▃▃▄▅▄▃▁▃▆▃▄▃▄▂▅▄▄▅▃▃▄▃▃▄▃</td></tr><tr><td>Training AUC buys_from</td><td>▇▇▃▄▇▄▇▅▃▄▆▆▅▇▁▃▅▃▄▄▆▄▄▄▅▅▅▂▄▂▄▁▃▆▆▄▄▅█▆</td></tr><tr><td>Training AUC has_capability</td><td>▅▃▄▃▅▃▄▅▄▆▃▅▆▅▅▂▅▃▃▆▇▁▆▄▄▃█▄▃▃▅▄▅▄▃▅▅▄▄▃</td></tr><tr><td>Training AUC has_cert</td><td>▁▁▄▄▃▅▃▃▄▄▃▃▄▄▂▃▅▄▂▂▄▅▄▃█▄▃▄▃▃▅▃▄▃▅▃▄▄▄▅</td></tr><tr><td>Training AUC located_in</td><td>▃▄▇▃▅▅▄▃▅▆▅▄▅▁▃▃▅▄▂█▅▄▄▅▅▃▆▅▄▅▆▄▂▄▆▄▄▄▅▃</td></tr><tr><td>Training AUC makes_product</td><td>▄▆▃▄▄▄▃▇▅▃▆▃▁█▇▅▂▃█▃▆▅▆▄▇▆▃▆▄▄▂▃█▆▄▃▅▅▂▆</td></tr><tr><td>Training AUC complimentary_product_to</td><td>▆▄▅▆▆▆▅▅▅▇▂▃▂▅▅▁▇▄▇▇▅▇▅▅▄▂▄▅▅▄▅▅▄▆▅█▆▅▄▅</td></tr><tr><td>Training AP capability_produces</td><td>▁▂▁█▁▁▂▁▂▁▂▁▂▃▃▁▁▁▄▁▁▁▁▃▁▁▁▁▁▂▁▂▂▂▁▁▁▁▁▁</td></tr><tr><td>Training AP buys_from</td><td>▅█▃▂▃▂▃▃▂▂▄▅▃▄▁▂▃▂▃▃▃▂▄▃▂▄▂▁▃▂▂▁▂▃▄▂▃▂▅▅</td></tr><tr><td>Training AP has_capability</td><td>▂▂▂▄▄▂▂▄▂▄▂▂▃▅▃▂▂▁▁▃▅▁▆▁▃▂█▃▃▁▂▂▄▂▁▅▄▃█▁</td></tr><tr><td>Training AP has_cert</td><td>▂▁▂▂▂▂▂▂▂▂▄▂▃▄▁▁▃▃▂▂▇▂▂▂█▅▃▅▃▂▂▂▄▃▃▃▂▂▃▂</td></tr><tr><td>Training AP located_in</td><td>▁▂▅▁▅▃▂▂▂▅▃▂▃▁▂▂▄▃▁█▂▂▂▃▂▁▅▂▂▂▃▁▁▂▄▂▂▂▂▁</td></tr><tr><td>Training AP makes_product</td><td>▃▂▂▂▂▂▂▄▂▂▃▂▁▅▄▄▁▂▄▂▃▃▃▅▄▄▃▃▃▂▁▂█▃▃▂▃▂▁▆</td></tr><tr><td>Training AP complimentary_product_to</td><td>▅▃▄▄▆▃▅▆▃▇▂▃▂▅▆▁▆▃▅▅▄▅▄▇▄▂▃▃▄▃▃▃▆█▄█▅▄▃▄</td></tr></table><br/>"
      ],
      "text/plain": [
       "<IPython.core.display.HTML object>"
      ]
     },
     "metadata": {},
     "output_type": "display_data"
    },
    {
     "data": {
      "text/html": [
       "Synced 6 W&B file(s), 1 media file(s), 0 artifact file(s) and 0 other file(s)"
      ],
      "text/plain": [
       "<IPython.core.display.HTML object>"
      ]
     },
     "metadata": {},
     "output_type": "display_data"
    },
    {
     "data": {
      "text/html": [
       "\n",
       "                    <br/>Synced <strong style=\"color:#cdcd00\">vibrant-sweep-1</strong>: <a href=\"https://wandb.ai/grandintegrator/KG-Completion-Sweep/runs/8lsways4\" target=\"_blank\">https://wandb.ai/grandintegrator/KG-Completion-Sweep/runs/8lsways4</a><br/>\n",
       "                "
      ],
      "text/plain": [
       "<IPython.core.display.HTML object>"
      ]
     },
     "metadata": {},
     "output_type": "display_data"
    },
    {
     "name": "stderr",
     "output_type": "stream",
     "text": [
      "\u001b[34m\u001b[1mwandb\u001b[0m: Agent Starting Run: xv8lcyyi with config:\n",
      "\u001b[34m\u001b[1mwandb\u001b[0m: \tbatch_size: 64\n",
      "\u001b[34m\u001b[1mwandb\u001b[0m: \tcapability_product_weight_cut: 200\n",
      "\u001b[34m\u001b[1mwandb\u001b[0m: \tcg_weight_cut: 30\n",
      "\u001b[34m\u001b[1mwandb\u001b[0m: \tdevice: cpu\n",
      "\u001b[34m\u001b[1mwandb\u001b[0m: \teval_type: validation\n",
      "\u001b[34m\u001b[1mwandb\u001b[0m: \tevaluate_every: 3\n",
      "\u001b[34m\u001b[1mwandb\u001b[0m: \tfrom_scratch: False\n",
      "\u001b[34m\u001b[1mwandb\u001b[0m: \tgraph_save_path: data/02_intermediate/\n",
      "\u001b[34m\u001b[1mwandb\u001b[0m: \tl2_regularisation: 0.005\n",
      "\u001b[34m\u001b[1mwandb\u001b[0m: \tload_graph: True\n",
      "\u001b[34m\u001b[1mwandb\u001b[0m: \tlog_company_accuracy: False\n",
      "\u001b[34m\u001b[1mwandb\u001b[0m: \tlog_freq: 20\n",
      "\u001b[34m\u001b[1mwandb\u001b[0m: \tloss: binary_cross_entropy\n",
      "\u001b[34m\u001b[1mwandb\u001b[0m: \tlr: 1e-05\n",
      "\u001b[34m\u001b[1mwandb\u001b[0m: \tmomentum: 0.0005\n",
      "\u001b[34m\u001b[1mwandb\u001b[0m: \tnum_classes: 2\n",
      "\u001b[34m\u001b[1mwandb\u001b[0m: \tnum_epochs: 8000\n",
      "\u001b[34m\u001b[1mwandb\u001b[0m: \tnum_hidden_graph_layers: 100\n",
      "\u001b[34m\u001b[1mwandb\u001b[0m: \tnum_negative_samples: 50\n",
      "\u001b[34m\u001b[1mwandb\u001b[0m: \tnum_node_features: 20\n",
      "\u001b[34m\u001b[1mwandb\u001b[0m: \tnum_workers: 0\n",
      "\u001b[34m\u001b[1mwandb\u001b[0m: \toptimiser: SGD\n",
      "\u001b[34m\u001b[1mwandb\u001b[0m: \tsave_train_results: False\n",
      "\u001b[34m\u001b[1mwandb\u001b[0m: \tstream_wandb: True\n",
      "\u001b[34m\u001b[1mwandb\u001b[0m: \ttest_p: 0.1\n",
      "\u001b[34m\u001b[1mwandb\u001b[0m: \ttriplets_from_scratch: False\n",
      "\u001b[34m\u001b[1mwandb\u001b[0m: \tvalid_p: 0.2\n"
     ]
    },
    {
     "data": {
      "text/html": [
       "\n",
       "                Tracking run with wandb version 0.10.31<br/>\n",
       "                Syncing run <strong style=\"color:#cdcd00\">sweet-sweep-2</strong> to <a href=\"https://wandb.ai\" target=\"_blank\">Weights & Biases</a> <a href=\"https://docs.wandb.com/integrations/jupyter.html\" target=\"_blank\">(Documentation)</a>.<br/>\n",
       "                Project page: <a href=\"https://wandb.ai/grandintegrator/KG-Completion-Sweep\" target=\"_blank\">https://wandb.ai/grandintegrator/KG-Completion-Sweep</a><br/>\n",
       "                Sweep page: <a href=\"https://wandb.ai/grandintegrator/KG-Completion-Sweep/sweeps/gft3lks5\" target=\"_blank\">https://wandb.ai/grandintegrator/KG-Completion-Sweep/sweeps/gft3lks5</a><br/>\n",
       "Run page: <a href=\"https://wandb.ai/grandintegrator/KG-Completion-Sweep/runs/xv8lcyyi\" target=\"_blank\">https://wandb.ai/grandintegrator/KG-Completion-Sweep/runs/xv8lcyyi</a><br/>\n",
       "                Run data is saved locally in <code>/Users/tim-bhp/PycharmProjects/link_predictions_supply_chains/Link-Prediction-Supply-Chains/wandb/run-20210610_104137-xv8lcyyi</code><br/><br/>\n",
       "            "
      ],
      "text/plain": [
       "<IPython.core.display.HTML object>"
      ]
     },
     "metadata": {},
     "output_type": "display_data"
    },
    {
     "name": "stderr",
     "output_type": "stream",
     "text": [
      "INFO:ingestion.dataset:Graphs loaded locally with the following dimensions:\n",
      "INFO:ingestion.dataset:====================================================\n",
      "INFO:ingestion.dataset:cG should have 14018 edges\n",
      "INFO:ingestion.dataset:bG should have 119618 edges\n",
      "INFO:ingestion.dataset:G should have 88997 edges\n",
      "INFO:ingestion.dataset:capability_product_graph should have 21575 edges\n",
      "INFO:ingestion.dataset:company_capability_graph should have 83787 edges\n",
      "INFO:ingestion.dataset:36 Capabilities\n",
      "INFO:ingestion.dataset:119618 Processes\n",
      "INFO:ingestion.dataset:41826 Companies\n",
      "INFO:ingestion.dataset:====================================================\n",
      "INFO:ingestion.dgl_dataset:All graphs loaded to memory - moving to process...\n",
      "INFO:ingestion.dgl_dataset:Triplets loaded from memory, processing to torch...\n",
      "\u001b[34m\u001b[1mwandb\u001b[0m: \u001b[33mWARNING\u001b[0m Config item 'lr' was locked by 'sweep' (ignored update).\n",
      "\u001b[34m\u001b[1mwandb\u001b[0m: \u001b[33mWARNING\u001b[0m Config item 'l2_regularisation' was locked by 'sweep' (ignored update).\n",
      "100%|██████████| 7088/7088 [46:46<00:00,  2.53it/s, loss=4.475]\n"
     ]
    },
    {
     "data": {
      "text/html": [
       "<br/>Waiting for W&B process to finish, PID 71014<br/>Program ended successfully."
      ],
      "text/plain": [
       "<IPython.core.display.HTML object>"
      ]
     },
     "metadata": {},
     "output_type": "display_data"
    },
    {
     "data": {
      "application/vnd.jupyter.widget-view+json": {
       "model_id": "d5cdcec80cc6444f8b4e5dcf9ba5b315",
       "version_major": 2,
       "version_minor": 0
      },
      "text/plain": [
       "VBox(children=(Label(value=' 0.01MB of 0.01MB uploaded (0.00MB deduped)\\r'), FloatProgress(value=1.0, max=1.0)…"
      ]
     },
     "metadata": {},
     "output_type": "display_data"
    },
    {
     "data": {
      "text/html": [
       "Find user logs for this run at: <code>/Users/tim-bhp/PycharmProjects/link_predictions_supply_chains/Link-Prediction-Supply-Chains/wandb/run-20210610_104137-xv8lcyyi/logs/debug.log</code>"
      ],
      "text/plain": [
       "<IPython.core.display.HTML object>"
      ]
     },
     "metadata": {},
     "output_type": "display_data"
    },
    {
     "data": {
      "text/html": [
       "Find internal logs for this run at: <code>/Users/tim-bhp/PycharmProjects/link_predictions_supply_chains/Link-Prediction-Supply-Chains/wandb/run-20210610_104137-xv8lcyyi/logs/debug-internal.log</code>"
      ],
      "text/plain": [
       "<IPython.core.display.HTML object>"
      ]
     },
     "metadata": {},
     "output_type": "display_data"
    },
    {
     "data": {
      "text/html": [
       "<h3>Run summary:</h3><br/><style>\n",
       "    table.wandb td:nth-child(1) { padding: 0 10px; text-align: right }\n",
       "    </style><table class=\"wandb\">\n",
       "<tr><td>epoch</td><td>7079</td></tr><tr><td>Training loss</td><td>4.22271</td></tr><tr><td>Training AUC capability_produces</td><td>0.2</td></tr><tr><td>Training AUC buys_from</td><td>0.7125</td></tr><tr><td>Training AUC has_capability</td><td>0.3625</td></tr><tr><td>Training AUC has_cert</td><td>0.5125</td></tr><tr><td>Training AUC located_in</td><td>0.44898</td></tr><tr><td>Training AUC makes_product</td><td>0.50622</td></tr><tr><td>Training AUC complimentary_product_to</td><td>0.60912</td></tr><tr><td>Training AP capability_produces</td><td>0.11111</td></tr><tr><td>Training AP buys_from</td><td>0.57024</td></tr><tr><td>Training AP has_capability</td><td>0.07906</td></tr><tr><td>Training AP has_cert</td><td>0.18434</td></tr><tr><td>Training AP located_in</td><td>0.10895</td></tr><tr><td>Training AP makes_product</td><td>0.09751</td></tr><tr><td>Training AP complimentary_product_to</td><td>0.21708</td></tr><tr><td>_runtime</td><td>2816</td></tr><tr><td>_timestamp</td><td>1623295713</td></tr><tr><td>_step</td><td>7079</td></tr></table>"
      ],
      "text/plain": [
       "<IPython.core.display.HTML object>"
      ]
     },
     "metadata": {},
     "output_type": "display_data"
    },
    {
     "data": {
      "text/html": [
       "<h3>Run history:</h3><br/><style>\n",
       "    table.wandb td:nth-child(1) { padding: 0 10px; text-align: right }\n",
       "    </style><table class=\"wandb\">\n",
       "<tr><td>epoch</td><td>▁▁▁▁▂▂▂▂▂▃▃▃▃▃▃▄▄▄▄▄▅▅▅▅▅▅▆▆▆▆▆▆▇▇▇▇▇███</td></tr><tr><td>Training loss</td><td>██▇▄▅▅▅▅▅▃▄▃▃▃▄▂▃▃▂▃▄▃▂▂▃▂▁▃▁▂▂▂▂▁▂▂▂▂▂▁</td></tr><tr><td>Training AUC capability_produces</td><td>▅▄▅▄▄▄▃▄▄▅▄▅▄▂▇▄▃▂▅▄▅▃▁▆▅▄▆▂▂▄▁▁█▁▅▇▆▂▂▂</td></tr><tr><td>Training AUC buys_from</td><td>▇▅▁▇▅▅▆▅▃▄▇▄█▅▇█▅▃▄▇▄▇▆▄▃▄▆█▅▄▅▄▅▂▃▃▆▃▇▄</td></tr><tr><td>Training AUC has_capability</td><td>▄▆█▆▅▆▆▆▄▇▆▆▇█▅▁▇▇▆▆▅▆▆▃▇▅▅▆▆▅▅▅▆▇▆▆▄▅█▃</td></tr><tr><td>Training AUC has_cert</td><td>▆▅▃▂▆▅▄▄▄▅▆▄▁▄▅▅▄▆▃▅▅▃▄▅▄█▅▅█▅▄▆▄▅▅▄▅▆▅▆</td></tr><tr><td>Training AUC located_in</td><td>▄█▄▄▅▂▄▄▂▁▃▆▆▄▄▃▃▆▃▄▃▄▄▄▅▄▇▄▂▆▆▅▂▆▃▃▃▅▇▇</td></tr><tr><td>Training AUC makes_product</td><td>▄▇▅▄▇▄▆▆▄█▇▄▅▅▆▇▅▅▄▇▃▄▅▆▄▅▆▆▁▃█▆▇▅▇▇▅█▆▄</td></tr><tr><td>Training AUC complimentary_product_to</td><td>█▅▄▃▄▂▃▂▄▅▄▂▄▅▄▄▄▇▃▃▃▃▅▄▂▇▄▆▅▆▃▁▅▆▆▅▅▅▆█</td></tr><tr><td>Training AP capability_produces</td><td>▂▁▁▁▁▁▁▁▁▃▁▂▃▁▃▂▁▁▂▁▁▁▁▃▂▁▂▁▁▁▁▁█▁▂▄▂▁▁▁</td></tr><tr><td>Training AP buys_from</td><td>▅▂▁▅▅▃▄▃▂▁▅▃▄▂▄▄▃▃▂▄▂█▃▃▃▃▄▅▃▂▂▄▂▁▂▃▄▂▄▅</td></tr><tr><td>Training AP has_capability</td><td>▂▅▃▂▂▂▄▃▁▃▅▂▄▃▃▁▃▆▂▃▂▃▃▃▃▂▃▂▇▂▃▂▂▄▃▂▁▃█▁</td></tr><tr><td>Training AP has_cert</td><td>▂▂▁▁▇▂▁▁▁▂▃▂▁▁▃▂▂▃▁▂▂▁▂▃▁█▃▂▅▂▁▂▂▂▂▁▂▃▂▄</td></tr><tr><td>Training AP located_in</td><td>▂█▄▂▃▂▂▅▁▁▃▄▃▂▁▁▂▃▂▂▂▂▂▂▃▂▆▄▁▆▄▅▄▅▁▁▂▃▅▅</td></tr><tr><td>Training AP makes_product</td><td>▂▃▂▂▃▄▃▃▂▆▅▃▂▃▃▅▃▅▂▃▂▂▂█▁▂▂▃▁▂▅▃▃▇▄▄▂▆▂▁</td></tr><tr><td>Training AP complimentary_product_to</td><td>▅▄▅▂▆▂▂▁▄▃▅▁▂▆▂▃▃▃▃▂▂▁▃▂▂▇▃▄▄▄▁▁▃▃▅▃▇▇▄█</td></tr><tr><td>_runtime</td><td>▁▁▁▁▂▂▂▂▂▂▂▃▃▃▃▃▃▃▄▄▄▄▄▄▄▅▅▅▅▅▆▆▆▆▇▇▇▇██</td></tr><tr><td>_timestamp</td><td>▁▁▁▁▂▂▂▂▂▂▂▃▃▃▃▃▃▃▄▄▄▄▄▄▄▅▅▅▅▅▆▆▆▆▇▇▇▇██</td></tr><tr><td>_step</td><td>▁▁▁▁▂▂▂▂▂▃▃▃▃▃▃▄▄▄▄▄▅▅▅▅▅▅▆▆▆▆▆▆▇▇▇▇▇███</td></tr></table><br/>"
      ],
      "text/plain": [
       "<IPython.core.display.HTML object>"
      ]
     },
     "metadata": {},
     "output_type": "display_data"
    },
    {
     "data": {
      "text/html": [
       "Synced 6 W&B file(s), 1 media file(s), 0 artifact file(s) and 0 other file(s)"
      ],
      "text/plain": [
       "<IPython.core.display.HTML object>"
      ]
     },
     "metadata": {},
     "output_type": "display_data"
    },
    {
     "data": {
      "text/html": [
       "\n",
       "                    <br/>Synced <strong style=\"color:#cdcd00\">sweet-sweep-2</strong>: <a href=\"https://wandb.ai/grandintegrator/KG-Completion-Sweep/runs/xv8lcyyi\" target=\"_blank\">https://wandb.ai/grandintegrator/KG-Completion-Sweep/runs/xv8lcyyi</a><br/>\n",
       "                "
      ],
      "text/plain": [
       "<IPython.core.display.HTML object>"
      ]
     },
     "metadata": {},
     "output_type": "display_data"
    },
    {
     "name": "stderr",
     "output_type": "stream",
     "text": [
      "\u001b[34m\u001b[1mwandb\u001b[0m: Agent Starting Run: y84tb57k with config:\n",
      "\u001b[34m\u001b[1mwandb\u001b[0m: \tbatch_size: 64\n",
      "\u001b[34m\u001b[1mwandb\u001b[0m: \tcapability_product_weight_cut: 200\n",
      "\u001b[34m\u001b[1mwandb\u001b[0m: \tcg_weight_cut: 30\n",
      "\u001b[34m\u001b[1mwandb\u001b[0m: \tdevice: cpu\n",
      "\u001b[34m\u001b[1mwandb\u001b[0m: \teval_type: validation\n",
      "\u001b[34m\u001b[1mwandb\u001b[0m: \tevaluate_every: 3\n",
      "\u001b[34m\u001b[1mwandb\u001b[0m: \tfrom_scratch: False\n",
      "\u001b[34m\u001b[1mwandb\u001b[0m: \tgraph_save_path: data/02_intermediate/\n",
      "\u001b[34m\u001b[1mwandb\u001b[0m: \tl2_regularisation: 0.005\n",
      "\u001b[34m\u001b[1mwandb\u001b[0m: \tload_graph: True\n",
      "\u001b[34m\u001b[1mwandb\u001b[0m: \tlog_company_accuracy: False\n",
      "\u001b[34m\u001b[1mwandb\u001b[0m: \tlog_freq: 20\n",
      "\u001b[34m\u001b[1mwandb\u001b[0m: \tloss: margin\n",
      "\u001b[34m\u001b[1mwandb\u001b[0m: \tlr: 0.001\n",
      "\u001b[34m\u001b[1mwandb\u001b[0m: \tmomentum: 0.005\n",
      "\u001b[34m\u001b[1mwandb\u001b[0m: \tnum_classes: 2\n",
      "\u001b[34m\u001b[1mwandb\u001b[0m: \tnum_epochs: 8000\n",
      "\u001b[34m\u001b[1mwandb\u001b[0m: \tnum_hidden_graph_layers: 100\n",
      "\u001b[34m\u001b[1mwandb\u001b[0m: \tnum_negative_samples: 50\n",
      "\u001b[34m\u001b[1mwandb\u001b[0m: \tnum_node_features: 100\n",
      "\u001b[34m\u001b[1mwandb\u001b[0m: \tnum_workers: 0\n",
      "\u001b[34m\u001b[1mwandb\u001b[0m: \toptimiser: SGD\n",
      "\u001b[34m\u001b[1mwandb\u001b[0m: \tsave_train_results: False\n",
      "\u001b[34m\u001b[1mwandb\u001b[0m: \tstream_wandb: True\n",
      "\u001b[34m\u001b[1mwandb\u001b[0m: \ttest_p: 0.1\n",
      "\u001b[34m\u001b[1mwandb\u001b[0m: \ttriplets_from_scratch: False\n",
      "\u001b[34m\u001b[1mwandb\u001b[0m: \tvalid_p: 0.2\n"
     ]
    },
    {
     "data": {
      "text/html": [
       "\n",
       "                Tracking run with wandb version 0.10.31<br/>\n",
       "                Syncing run <strong style=\"color:#cdcd00\">ruby-sweep-3</strong> to <a href=\"https://wandb.ai\" target=\"_blank\">Weights & Biases</a> <a href=\"https://docs.wandb.com/integrations/jupyter.html\" target=\"_blank\">(Documentation)</a>.<br/>\n",
       "                Project page: <a href=\"https://wandb.ai/grandintegrator/KG-Completion-Sweep\" target=\"_blank\">https://wandb.ai/grandintegrator/KG-Completion-Sweep</a><br/>\n",
       "                Sweep page: <a href=\"https://wandb.ai/grandintegrator/KG-Completion-Sweep/sweeps/gft3lks5\" target=\"_blank\">https://wandb.ai/grandintegrator/KG-Completion-Sweep/sweeps/gft3lks5</a><br/>\n",
       "Run page: <a href=\"https://wandb.ai/grandintegrator/KG-Completion-Sweep/runs/y84tb57k\" target=\"_blank\">https://wandb.ai/grandintegrator/KG-Completion-Sweep/runs/y84tb57k</a><br/>\n",
       "                Run data is saved locally in <code>/Users/tim-bhp/PycharmProjects/link_predictions_supply_chains/Link-Prediction-Supply-Chains/wandb/run-20210610_112840-y84tb57k</code><br/><br/>\n",
       "            "
      ],
      "text/plain": [
       "<IPython.core.display.HTML object>"
      ]
     },
     "metadata": {},
     "output_type": "display_data"
    },
    {
     "name": "stderr",
     "output_type": "stream",
     "text": [
      "INFO:ingestion.dataset:Graphs loaded locally with the following dimensions:\n",
      "INFO:ingestion.dataset:====================================================\n",
      "INFO:ingestion.dataset:cG should have 14018 edges\n",
      "INFO:ingestion.dataset:bG should have 119618 edges\n",
      "INFO:ingestion.dataset:G should have 88997 edges\n",
      "INFO:ingestion.dataset:capability_product_graph should have 21575 edges\n",
      "INFO:ingestion.dataset:company_capability_graph should have 83787 edges\n",
      "INFO:ingestion.dataset:36 Capabilities\n",
      "INFO:ingestion.dataset:119618 Processes\n",
      "INFO:ingestion.dataset:41826 Companies\n",
      "INFO:ingestion.dataset:====================================================\n",
      "INFO:ingestion.dgl_dataset:All graphs loaded to memory - moving to process...\n",
      "INFO:ingestion.dgl_dataset:Triplets loaded from memory, processing to torch...\n",
      "\u001b[34m\u001b[1mwandb\u001b[0m: \u001b[33mWARNING\u001b[0m Config item 'lr' was locked by 'sweep' (ignored update).\n",
      "\u001b[34m\u001b[1mwandb\u001b[0m: \u001b[33mWARNING\u001b[0m Config item 'l2_regularisation' was locked by 'sweep' (ignored update).\n",
      "100%|██████████| 7088/7088 [54:18<00:00,  2.18it/s, loss=0.880]\n"
     ]
    },
    {
     "data": {
      "text/html": [
       "<br/>Waiting for W&B process to finish, PID 71780<br/>Program ended successfully."
      ],
      "text/plain": [
       "<IPython.core.display.HTML object>"
      ]
     },
     "metadata": {},
     "output_type": "display_data"
    },
    {
     "data": {
      "application/vnd.jupyter.widget-view+json": {
       "model_id": "6f814d46f17743ebb86f1faa051be8d8",
       "version_major": 2,
       "version_minor": 0
      },
      "text/plain": [
       "VBox(children=(Label(value=' 0.01MB of 0.01MB uploaded (0.00MB deduped)\\r'), FloatProgress(value=1.0, max=1.0)…"
      ]
     },
     "metadata": {},
     "output_type": "display_data"
    },
    {
     "data": {
      "text/html": [
       "Find user logs for this run at: <code>/Users/tim-bhp/PycharmProjects/link_predictions_supply_chains/Link-Prediction-Supply-Chains/wandb/run-20210610_112840-y84tb57k/logs/debug.log</code>"
      ],
      "text/plain": [
       "<IPython.core.display.HTML object>"
      ]
     },
     "metadata": {},
     "output_type": "display_data"
    },
    {
     "data": {
      "text/html": [
       "Find internal logs for this run at: <code>/Users/tim-bhp/PycharmProjects/link_predictions_supply_chains/Link-Prediction-Supply-Chains/wandb/run-20210610_112840-y84tb57k/logs/debug-internal.log</code>"
      ],
      "text/plain": [
       "<IPython.core.display.HTML object>"
      ]
     },
     "metadata": {},
     "output_type": "display_data"
    },
    {
     "data": {
      "text/html": [
       "<h3>Run summary:</h3><br/><style>\n",
       "    table.wandb td:nth-child(1) { padding: 0 10px; text-align: right }\n",
       "    </style><table class=\"wandb\">\n",
       "<tr><td>_runtime</td><td>3273</td></tr><tr><td>_timestamp</td><td>1623298993</td></tr><tr><td>_step</td><td>7079</td></tr><tr><td>epoch</td><td>7079</td></tr><tr><td>Training loss</td><td>1.01357</td></tr><tr><td>Training AUC buys_from</td><td>0.89877</td></tr><tr><td>Training AUC has_capability</td><td>0.65556</td></tr><tr><td>Training AUC has_cert</td><td>0.654</td></tr><tr><td>Training AUC located_in</td><td>0.9375</td></tr><tr><td>Training AUC makes_product</td><td>0.99763</td></tr><tr><td>Training AUC complimentary_product_to</td><td>0.99849</td></tr><tr><td>Training AP buys_from</td><td>0.4202</td></tr><tr><td>Training AP has_capability</td><td>0.21805</td></tr><tr><td>Training AP has_cert</td><td>0.22197</td></tr><tr><td>Training AP located_in</td><td>0.6875</td></tr><tr><td>Training AP makes_product</td><td>0.9819</td></tr><tr><td>Training AP complimentary_product_to</td><td>0.98277</td></tr><tr><td>Training AUC capability_produces</td><td>1.0</td></tr><tr><td>Training AP capability_produces</td><td>1.0</td></tr></table>"
      ],
      "text/plain": [
       "<IPython.core.display.HTML object>"
      ]
     },
     "metadata": {},
     "output_type": "display_data"
    },
    {
     "data": {
      "text/html": [
       "<h3>Run history:</h3><br/><style>\n",
       "    table.wandb td:nth-child(1) { padding: 0 10px; text-align: right }\n",
       "    </style><table class=\"wandb\">\n",
       "<tr><td>_runtime</td><td>▁▁▁▂▂▂▂▂▂▃▃▃▃▃▃▃▄▄▄▄▄▅▅▅▅▅▅▆▆▆▆▇▇▇▇▇▇███</td></tr><tr><td>_timestamp</td><td>▁▁▁▂▂▂▂▂▂▃▃▃▃▃▃▃▄▄▄▄▄▅▅▅▅▅▅▆▆▆▆▇▇▇▇▇▇███</td></tr><tr><td>_step</td><td>▁▁▁▁▂▂▂▂▂▃▃▃▃▃▃▄▄▄▄▄▅▅▅▅▅▅▆▆▆▆▆▆▇▇▇▇▇███</td></tr><tr><td>epoch</td><td>▁▁▁▁▂▂▂▂▂▃▃▃▃▃▃▄▄▄▄▄▅▅▅▅▅▅▆▆▆▆▆▆▇▇▇▇▇███</td></tr><tr><td>Training loss</td><td>█▃▃▄▄▃▄▁▂▂▃▄▁▃▂▃▃▃▂▂▂▂▂▂▃▂▂▁▁▁▂▂▂▂▂▂▂▃▁▂</td></tr><tr><td>Training AUC buys_from</td><td>▁▅▄▆▄▅▂▆▅▆▆▃▆▇▅▆▅▅▆▆▅▆▆▆▅▄▅▇▇▅▆▅▆▄▇█▄▄▅▅</td></tr><tr><td>Training AUC has_capability</td><td>▂▄▆▇▆▄▁▇▆▃▅▅▆█▆▄▅▃█▆▇▆▄▃▆▅▆█▇▄▆▄▅█▆▂▃▄▆▄</td></tr><tr><td>Training AUC has_cert</td><td>▄█▆▅▅▆▅▆▆▅▆▅█▅▅▆▆▄▆▆▅▅▄▆▄▆▆█▆▅▃▆▆▅▅▁▇▂▄▄</td></tr><tr><td>Training AUC located_in</td><td>▁▆▃▃▆▇▄▇▅▄▁▃▆▅▂▅▄▆▅▃▅▄█▆▆▆▅▆▃▆▄▆▅▃▄▇▆▆▆▄</td></tr><tr><td>Training AUC makes_product</td><td>▁█▇▅▆▇█▇▇▇▇█▇▇▇▇████▆▇▆█▇▇█▇▇▇█▇█▇█▇▇▇█▇</td></tr><tr><td>Training AUC complimentary_product_to</td><td>▁▄▆▆▇██▇▇▇██▇▆▆█▇▇██▇█▆▅▇▇▇▇██▅▇▇▇█▇▇▇█▇</td></tr><tr><td>Training AP buys_from</td><td>▃▂▂▃▁▄▅▄▂▄▃▁▃▅▄▃▂▄▃▃▃▃▅▃▃▄▃▆▄▂▅▅▄▁▄█▂▂▃▄</td></tr><tr><td>Training AP has_capability</td><td>▁▅▅▄▄▂▁▅█▂▃▃▃▃▃▃▃▅▄▂▃▄▁▃▄▂▃▆▄▂▂▄▂▄▂▃▂▂▅▄</td></tr><tr><td>Training AP has_cert</td><td>▁▃▂▂▂▄▁▂▂▁▂▂▄▇▂▂▃▁▅▂▂▂▁▂▁▃▂█▅▂▁▂▂▅▁▁▃▁▁▂</td></tr><tr><td>Training AP located_in</td><td>▁▂▃▃▄▄▄▆▃▃▄▁▆▅▂▅▂▅▄▃▃▂█▄▃▄▄▃▂▃▄▂▄▁▅▆▅▃▅▁</td></tr><tr><td>Training AP makes_product</td><td>▁▇▆▅▄▆▇▇▇▇▇█▅▇▆▆▇▇█▇▅▇▇▆▇▆▇▇▇▆▇▇▇▇█▆▇▇█▇</td></tr><tr><td>Training AP complimentary_product_to</td><td>▁▃▄▅▆█▇▇▆▆▇█▆▃▂█▅▆█▇▅█▄▁▇▇▅▆██▃▆▅▆█▅▅▆█▄</td></tr><tr><td>Training AUC capability_produces</td><td>█▁▃█████████████████████████████████████</td></tr><tr><td>Training AP capability_produces</td><td>█▁▃█████████████████████████████████████</td></tr></table><br/>"
      ],
      "text/plain": [
       "<IPython.core.display.HTML object>"
      ]
     },
     "metadata": {},
     "output_type": "display_data"
    },
    {
     "data": {
      "text/html": [
       "Synced 6 W&B file(s), 1 media file(s), 0 artifact file(s) and 0 other file(s)"
      ],
      "text/plain": [
       "<IPython.core.display.HTML object>"
      ]
     },
     "metadata": {},
     "output_type": "display_data"
    },
    {
     "data": {
      "text/html": [
       "\n",
       "                    <br/>Synced <strong style=\"color:#cdcd00\">ruby-sweep-3</strong>: <a href=\"https://wandb.ai/grandintegrator/KG-Completion-Sweep/runs/y84tb57k\" target=\"_blank\">https://wandb.ai/grandintegrator/KG-Completion-Sweep/runs/y84tb57k</a><br/>\n",
       "                "
      ],
      "text/plain": [
       "<IPython.core.display.HTML object>"
      ]
     },
     "metadata": {},
     "output_type": "display_data"
    },
    {
     "name": "stderr",
     "output_type": "stream",
     "text": [
      "\u001b[34m\u001b[1mwandb\u001b[0m: Agent Starting Run: emwj69a7 with config:\n",
      "\u001b[34m\u001b[1mwandb\u001b[0m: \tbatch_size: 128\n",
      "\u001b[34m\u001b[1mwandb\u001b[0m: \tcapability_product_weight_cut: 200\n",
      "\u001b[34m\u001b[1mwandb\u001b[0m: \tcg_weight_cut: 30\n",
      "\u001b[34m\u001b[1mwandb\u001b[0m: \tdevice: cpu\n",
      "\u001b[34m\u001b[1mwandb\u001b[0m: \teval_type: validation\n",
      "\u001b[34m\u001b[1mwandb\u001b[0m: \tevaluate_every: 3\n",
      "\u001b[34m\u001b[1mwandb\u001b[0m: \tfrom_scratch: False\n",
      "\u001b[34m\u001b[1mwandb\u001b[0m: \tgraph_save_path: data/02_intermediate/\n",
      "\u001b[34m\u001b[1mwandb\u001b[0m: \tl2_regularisation: 0.005\n",
      "\u001b[34m\u001b[1mwandb\u001b[0m: \tload_graph: True\n",
      "\u001b[34m\u001b[1mwandb\u001b[0m: \tlog_company_accuracy: False\n",
      "\u001b[34m\u001b[1mwandb\u001b[0m: \tlog_freq: 20\n",
      "\u001b[34m\u001b[1mwandb\u001b[0m: \tloss: margin\n",
      "\u001b[34m\u001b[1mwandb\u001b[0m: \tlr: 1e-05\n",
      "\u001b[34m\u001b[1mwandb\u001b[0m: \tmomentum: 0.005\n",
      "\u001b[34m\u001b[1mwandb\u001b[0m: \tnum_classes: 2\n",
      "\u001b[34m\u001b[1mwandb\u001b[0m: \tnum_epochs: 8000\n",
      "\u001b[34m\u001b[1mwandb\u001b[0m: \tnum_hidden_graph_layers: 16\n",
      "\u001b[34m\u001b[1mwandb\u001b[0m: \tnum_negative_samples: 50\n",
      "\u001b[34m\u001b[1mwandb\u001b[0m: \tnum_node_features: 2\n",
      "\u001b[34m\u001b[1mwandb\u001b[0m: \tnum_workers: 0\n",
      "\u001b[34m\u001b[1mwandb\u001b[0m: \toptimiser: Adam\n",
      "\u001b[34m\u001b[1mwandb\u001b[0m: \tsave_train_results: False\n",
      "\u001b[34m\u001b[1mwandb\u001b[0m: \tstream_wandb: True\n",
      "\u001b[34m\u001b[1mwandb\u001b[0m: \ttest_p: 0.1\n",
      "\u001b[34m\u001b[1mwandb\u001b[0m: \ttriplets_from_scratch: False\n",
      "\u001b[34m\u001b[1mwandb\u001b[0m: \tvalid_p: 0.2\n"
     ]
    },
    {
     "data": {
      "text/html": [
       "\n",
       "                Tracking run with wandb version 0.10.31<br/>\n",
       "                Syncing run <strong style=\"color:#cdcd00\">daily-sweep-4</strong> to <a href=\"https://wandb.ai\" target=\"_blank\">Weights & Biases</a> <a href=\"https://docs.wandb.com/integrations/jupyter.html\" target=\"_blank\">(Documentation)</a>.<br/>\n",
       "                Project page: <a href=\"https://wandb.ai/grandintegrator/KG-Completion-Sweep\" target=\"_blank\">https://wandb.ai/grandintegrator/KG-Completion-Sweep</a><br/>\n",
       "                Sweep page: <a href=\"https://wandb.ai/grandintegrator/KG-Completion-Sweep/sweeps/gft3lks5\" target=\"_blank\">https://wandb.ai/grandintegrator/KG-Completion-Sweep/sweeps/gft3lks5</a><br/>\n",
       "Run page: <a href=\"https://wandb.ai/grandintegrator/KG-Completion-Sweep/runs/emwj69a7\" target=\"_blank\">https://wandb.ai/grandintegrator/KG-Completion-Sweep/runs/emwj69a7</a><br/>\n",
       "                Run data is saved locally in <code>/Users/tim-bhp/PycharmProjects/link_predictions_supply_chains/Link-Prediction-Supply-Chains/wandb/run-20210610_122320-emwj69a7</code><br/><br/>\n",
       "            "
      ],
      "text/plain": [
       "<IPython.core.display.HTML object>"
      ]
     },
     "metadata": {},
     "output_type": "display_data"
    },
    {
     "name": "stderr",
     "output_type": "stream",
     "text": [
      "INFO:ingestion.dataset:Graphs loaded locally with the following dimensions:\n",
      "INFO:ingestion.dataset:====================================================\n",
      "INFO:ingestion.dataset:cG should have 14018 edges\n",
      "INFO:ingestion.dataset:bG should have 119618 edges\n",
      "INFO:ingestion.dataset:G should have 88997 edges\n",
      "INFO:ingestion.dataset:capability_product_graph should have 21575 edges\n",
      "INFO:ingestion.dataset:company_capability_graph should have 83787 edges\n",
      "INFO:ingestion.dataset:36 Capabilities\n",
      "INFO:ingestion.dataset:119618 Processes\n",
      "INFO:ingestion.dataset:41826 Companies\n",
      "INFO:ingestion.dataset:====================================================\n",
      "INFO:ingestion.dgl_dataset:All graphs loaded to memory - moving to process...\n",
      "INFO:ingestion.dgl_dataset:Triplets loaded from memory, processing to torch...\n",
      "\u001b[34m\u001b[1mwandb\u001b[0m: \u001b[33mWARNING\u001b[0m Config item 'lr' was locked by 'sweep' (ignored update).\n",
      "\u001b[34m\u001b[1mwandb\u001b[0m: \u001b[33mWARNING\u001b[0m Config item 'l2_regularisation' was locked by 'sweep' (ignored update).\n",
      "100%|██████████| 3544/3544 [12:27<00:00,  4.74it/s, loss=0.937]\n"
     ]
    },
    {
     "data": {
      "text/html": [
       "<br/>Waiting for W&B process to finish, PID 72265<br/>Program ended successfully."
      ],
      "text/plain": [
       "<IPython.core.display.HTML object>"
      ]
     },
     "metadata": {},
     "output_type": "display_data"
    },
    {
     "data": {
      "application/vnd.jupyter.widget-view+json": {
       "model_id": "88514bf279b8472bbe972f38a2cc7d28",
       "version_major": 2,
       "version_minor": 0
      },
      "text/plain": [
       "VBox(children=(Label(value=' 0.01MB of 0.01MB uploaded (0.00MB deduped)\\r'), FloatProgress(value=1.0, max=1.0)…"
      ]
     },
     "metadata": {},
     "output_type": "display_data"
    },
    {
     "data": {
      "text/html": [
       "Find user logs for this run at: <code>/Users/tim-bhp/PycharmProjects/link_predictions_supply_chains/Link-Prediction-Supply-Chains/wandb/run-20210610_122320-emwj69a7/logs/debug.log</code>"
      ],
      "text/plain": [
       "<IPython.core.display.HTML object>"
      ]
     },
     "metadata": {},
     "output_type": "display_data"
    },
    {
     "data": {
      "text/html": [
       "Find internal logs for this run at: <code>/Users/tim-bhp/PycharmProjects/link_predictions_supply_chains/Link-Prediction-Supply-Chains/wandb/run-20210610_122320-emwj69a7/logs/debug-internal.log</code>"
      ],
      "text/plain": [
       "<IPython.core.display.HTML object>"
      ]
     },
     "metadata": {},
     "output_type": "display_data"
    },
    {
     "data": {
      "text/html": [
       "<h3>Run summary:</h3><br/><style>\n",
       "    table.wandb td:nth-child(1) { padding: 0 10px; text-align: right }\n",
       "    </style><table class=\"wandb\">\n",
       "<tr><td>_runtime</td><td>760</td></tr><tr><td>_timestamp</td><td>1623299760</td></tr><tr><td>_step</td><td>3539</td></tr><tr><td>epoch</td><td>3539</td></tr><tr><td>Training loss</td><td>0.99644</td></tr><tr><td>Training AUC capability_produces</td><td>0.93333</td></tr><tr><td>Training AUC buys_from</td><td>0.60325</td></tr><tr><td>Training AUC has_capability</td><td>0.43111</td></tr><tr><td>Training AUC has_cert</td><td>0.47083</td></tr><tr><td>Training AUC located_in</td><td>0.63672</td></tr><tr><td>Training AUC makes_product</td><td>0.60771</td></tr><tr><td>Training AUC complimentary_product_to</td><td>0.6161</td></tr><tr><td>Training AP capability_produces</td><td>0.68056</td></tr><tr><td>Training AP buys_from</td><td>0.15644</td></tr><tr><td>Training AP has_capability</td><td>0.0806</td></tr><tr><td>Training AP has_cert</td><td>0.09371</td></tr><tr><td>Training AP located_in</td><td>0.14405</td></tr><tr><td>Training AP makes_product</td><td>0.17987</td></tr><tr><td>Training AP complimentary_product_to</td><td>0.20906</td></tr></table>"
      ],
      "text/plain": [
       "<IPython.core.display.HTML object>"
      ]
     },
     "metadata": {},
     "output_type": "display_data"
    },
    {
     "data": {
      "text/html": [
       "<h3>Run history:</h3><br/><style>\n",
       "    table.wandb td:nth-child(1) { padding: 0 10px; text-align: right }\n",
       "    </style><table class=\"wandb\">\n",
       "<tr><td>_runtime</td><td>▁▁▁▁▂▂▂▂▂▃▃▃▃▃▄▄▄▄▄▄▅▅▅▅▅▅▆▆▆▆▆▇▇▇▇▇▇███</td></tr><tr><td>_timestamp</td><td>▁▁▁▁▂▂▂▂▂▃▃▃▃▃▄▄▄▄▄▄▅▅▅▅▅▅▆▆▆▆▆▇▇▇▇▇▇███</td></tr><tr><td>_step</td><td>▁▁▁▁▂▂▂▂▂▃▃▃▃▃▃▄▄▄▄▄▅▅▅▅▅▅▆▆▆▆▆▆▇▇▇▇▇███</td></tr><tr><td>epoch</td><td>▁▁▁▁▂▂▂▂▂▃▃▃▃▃▃▄▄▄▄▄▅▅▅▅▅▅▆▆▆▆▆▇▇▇▇▇▇███</td></tr><tr><td>Training loss</td><td>▆█▅▆▅▅▆▆▄█▄▄▄▃▄▄▄▃▄▄▃▃▂▄▃▃▂▃▃▂▂▂▃▂▁▁▂▄▁▂</td></tr><tr><td>Training AUC capability_produces</td><td>▂▁▆▃▄▃▅▂▆▆▃▃▄▄▆▅▄▅▃▆▅▄▃▄▄▅▅▄▁▄▃▅▅▅▆▇▆▃█▇</td></tr><tr><td>Training AUC buys_from</td><td>▅▆▄▅▄▅▃▄▃▂▂▄▄▅▆▅▄▃▃█▄▆▆▁▅▃▅▇▄▄▃▃▃▄▄▇▅▅▅▅</td></tr><tr><td>Training AUC has_capability</td><td>▃▄▅▅▄▅▂▅▄▃▃▅▃▇▂▃▁▆▅▆█▅▃▁▃▅▅▃▄▅▃▅▄▄▅▆▄▂▅▄</td></tr><tr><td>Training AUC has_cert</td><td>▅▅▄▆▆▅▁▇▃▇▄▅▆▅▆▃▅▅▂▁▆▃█▄▅▄▅▃█▄▇▄▄▆▇▇▆▆▅▂</td></tr><tr><td>Training AUC located_in</td><td>▆▆▆▅▄▅▆▅▅▆▇▅▇▆▅▆▇▆▄▆▆▅▆▃▅▆▇▄▇▆▅▅█▇▇█▁▅▆▆</td></tr><tr><td>Training AUC makes_product</td><td>▂▂▄▄▅▅▃▅▃▄▃▃▅▅▅▅▅▄▅▃▆▆▆▆▅▁▆▇▃▅▇▄▁▇▆▆█▅▅▆</td></tr><tr><td>Training AUC complimentary_product_to</td><td>▃▃▃▃▅▄▅▂▄▄▅▄▅▅▄▄▁▅▄▅▅▅▄▃▆▅▆▃▆▇▇█▄▅▆▇▇▆█▇</td></tr><tr><td>Training AP capability_produces</td><td>▁▁▂▁▃▂▆▁▃▅▁▁▂▂▄▂▅▂▃▄▂▅▁▂▂▄▅▂▁▂▁▃▃▃▃▆▅▃█▅</td></tr><tr><td>Training AP buys_from</td><td>▄▄▃▄▃▃▂▂▂▁▂▂▂▃▅▄▃▂▁▆▂▄▄▆▃▃▃█▂▂▃▂▂▅▂▅▅▃▄▅</td></tr><tr><td>Training AP has_capability</td><td>▂▃▆▂▂▃▁▇▄▂▁▃▂▄▁▁▁▄▆▄▅█▄▁▃▃█▃▂▃▁▄▃▆▂█▂▁▂▂</td></tr><tr><td>Training AP has_cert</td><td>▂▁▂▃▂▅▁▄▁▂▁▂▃▅▂▂▂▂▁▁▂▂▂▂▂▁▆▂▄▂▄▂▃▃█▂▂▃▂▁</td></tr><tr><td>Training AP located_in</td><td>▂▂▅▁▂▂▃▂▂▃▅▂▄▂▃▃▅▃▁▂▂▂▄▁▃▂▅▂▆▄▂▃▆▅▄█▂▂▄▃</td></tr><tr><td>Training AP makes_product</td><td>▂▂▂▂▃▆▂▅▂▂▃▂▅▅▄▄▅▂▃▂▆▅▅▅▃▁▃█▃▄█▃▁█▆▄▆▄▅▅</td></tr><tr><td>Training AP complimentary_product_to</td><td>▃▂▃▂▃▃▅▁▂▂▃▄▃▃▂▂▁▃▂▄▃▃▂▃▄▃▄▃▅▄▅█▃▄▇▅▇▆██</td></tr></table><br/>"
      ],
      "text/plain": [
       "<IPython.core.display.HTML object>"
      ]
     },
     "metadata": {},
     "output_type": "display_data"
    },
    {
     "data": {
      "text/html": [
       "Synced 6 W&B file(s), 1 media file(s), 0 artifact file(s) and 0 other file(s)"
      ],
      "text/plain": [
       "<IPython.core.display.HTML object>"
      ]
     },
     "metadata": {},
     "output_type": "display_data"
    },
    {
     "data": {
      "text/html": [
       "\n",
       "                    <br/>Synced <strong style=\"color:#cdcd00\">daily-sweep-4</strong>: <a href=\"https://wandb.ai/grandintegrator/KG-Completion-Sweep/runs/emwj69a7\" target=\"_blank\">https://wandb.ai/grandintegrator/KG-Completion-Sweep/runs/emwj69a7</a><br/>\n",
       "                "
      ],
      "text/plain": [
       "<IPython.core.display.HTML object>"
      ]
     },
     "metadata": {},
     "output_type": "display_data"
    },
    {
     "name": "stderr",
     "output_type": "stream",
     "text": [
      "\u001b[34m\u001b[1mwandb\u001b[0m: Agent Starting Run: kj683c44 with config:\n",
      "\u001b[34m\u001b[1mwandb\u001b[0m: \tbatch_size: 128\n",
      "\u001b[34m\u001b[1mwandb\u001b[0m: \tcapability_product_weight_cut: 200\n",
      "\u001b[34m\u001b[1mwandb\u001b[0m: \tcg_weight_cut: 30\n",
      "\u001b[34m\u001b[1mwandb\u001b[0m: \tdevice: cpu\n",
      "\u001b[34m\u001b[1mwandb\u001b[0m: \teval_type: validation\n",
      "\u001b[34m\u001b[1mwandb\u001b[0m: \tevaluate_every: 3\n",
      "\u001b[34m\u001b[1mwandb\u001b[0m: \tfrom_scratch: False\n",
      "\u001b[34m\u001b[1mwandb\u001b[0m: \tgraph_save_path: data/02_intermediate/\n",
      "\u001b[34m\u001b[1mwandb\u001b[0m: \tl2_regularisation: 0.05\n",
      "\u001b[34m\u001b[1mwandb\u001b[0m: \tload_graph: True\n",
      "\u001b[34m\u001b[1mwandb\u001b[0m: \tlog_company_accuracy: False\n",
      "\u001b[34m\u001b[1mwandb\u001b[0m: \tlog_freq: 20\n",
      "\u001b[34m\u001b[1mwandb\u001b[0m: \tloss: margin\n",
      "\u001b[34m\u001b[1mwandb\u001b[0m: \tlr: 0.01\n",
      "\u001b[34m\u001b[1mwandb\u001b[0m: \tmomentum: 0.005\n",
      "\u001b[34m\u001b[1mwandb\u001b[0m: \tnum_classes: 2\n",
      "\u001b[34m\u001b[1mwandb\u001b[0m: \tnum_epochs: 500\n",
      "\u001b[34m\u001b[1mwandb\u001b[0m: \tnum_hidden_graph_layers: 16\n",
      "\u001b[34m\u001b[1mwandb\u001b[0m: \tnum_negative_samples: 50\n",
      "\u001b[34m\u001b[1mwandb\u001b[0m: \tnum_node_features: 2\n",
      "\u001b[34m\u001b[1mwandb\u001b[0m: \tnum_workers: 0\n",
      "\u001b[34m\u001b[1mwandb\u001b[0m: \toptimiser: Adam\n",
      "\u001b[34m\u001b[1mwandb\u001b[0m: \tsave_train_results: False\n",
      "\u001b[34m\u001b[1mwandb\u001b[0m: \tstream_wandb: True\n",
      "\u001b[34m\u001b[1mwandb\u001b[0m: \ttest_p: 0.1\n",
      "\u001b[34m\u001b[1mwandb\u001b[0m: \ttriplets_from_scratch: False\n",
      "\u001b[34m\u001b[1mwandb\u001b[0m: \tvalid_p: 0.2\n"
     ]
    },
    {
     "data": {
      "text/html": [
       "\n",
       "                Tracking run with wandb version 0.10.31<br/>\n",
       "                Syncing run <strong style=\"color:#cdcd00\">bumbling-sweep-5</strong> to <a href=\"https://wandb.ai\" target=\"_blank\">Weights & Biases</a> <a href=\"https://docs.wandb.com/integrations/jupyter.html\" target=\"_blank\">(Documentation)</a>.<br/>\n",
       "                Project page: <a href=\"https://wandb.ai/grandintegrator/KG-Completion-Sweep\" target=\"_blank\">https://wandb.ai/grandintegrator/KG-Completion-Sweep</a><br/>\n",
       "                Sweep page: <a href=\"https://wandb.ai/grandintegrator/KG-Completion-Sweep/sweeps/gft3lks5\" target=\"_blank\">https://wandb.ai/grandintegrator/KG-Completion-Sweep/sweeps/gft3lks5</a><br/>\n",
       "Run page: <a href=\"https://wandb.ai/grandintegrator/KG-Completion-Sweep/runs/kj683c44\" target=\"_blank\">https://wandb.ai/grandintegrator/KG-Completion-Sweep/runs/kj683c44</a><br/>\n",
       "                Run data is saved locally in <code>/Users/tim-bhp/PycharmProjects/link_predictions_supply_chains/Link-Prediction-Supply-Chains/wandb/run-20210610_123606-kj683c44</code><br/><br/>\n",
       "            "
      ],
      "text/plain": [
       "<IPython.core.display.HTML object>"
      ]
     },
     "metadata": {},
     "output_type": "display_data"
    },
    {
     "name": "stderr",
     "output_type": "stream",
     "text": [
      "INFO:ingestion.dataset:Graphs loaded locally with the following dimensions:\n",
      "INFO:ingestion.dataset:====================================================\n",
      "INFO:ingestion.dataset:cG should have 14018 edges\n",
      "INFO:ingestion.dataset:bG should have 119618 edges\n",
      "INFO:ingestion.dataset:G should have 88997 edges\n",
      "INFO:ingestion.dataset:capability_product_graph should have 21575 edges\n",
      "INFO:ingestion.dataset:company_capability_graph should have 83787 edges\n",
      "INFO:ingestion.dataset:36 Capabilities\n",
      "INFO:ingestion.dataset:119618 Processes\n",
      "INFO:ingestion.dataset:41826 Companies\n",
      "INFO:ingestion.dataset:====================================================\n",
      "INFO:ingestion.dgl_dataset:All graphs loaded to memory - moving to process...\n",
      "INFO:ingestion.dgl_dataset:Triplets loaded from memory, processing to torch...\n",
      "\u001b[34m\u001b[1mwandb\u001b[0m: \u001b[33mWARNING\u001b[0m Config item 'lr' was locked by 'sweep' (ignored update).\n",
      "\u001b[34m\u001b[1mwandb\u001b[0m: \u001b[33mWARNING\u001b[0m Config item 'l2_regularisation' was locked by 'sweep' (ignored update).\n",
      " 14%|█▍        | 500/3544 [01:44<10:34,  4.80it/s, loss=0.413]\n"
     ]
    },
    {
     "data": {
      "text/html": [
       "<br/>Waiting for W&B process to finish, PID 72333<br/>Program ended successfully."
      ],
      "text/plain": [
       "<IPython.core.display.HTML object>"
      ]
     },
     "metadata": {},
     "output_type": "display_data"
    },
    {
     "data": {
      "application/vnd.jupyter.widget-view+json": {
       "model_id": "b0bfa598e18748b5a2654d76afcd5afa",
       "version_major": 2,
       "version_minor": 0
      },
      "text/plain": [
       "VBox(children=(Label(value=' 0.01MB of 0.01MB uploaded (0.00MB deduped)\\r'), FloatProgress(value=1.0, max=1.0)…"
      ]
     },
     "metadata": {},
     "output_type": "display_data"
    },
    {
     "data": {
      "text/html": [
       "Find user logs for this run at: <code>/Users/tim-bhp/PycharmProjects/link_predictions_supply_chains/Link-Prediction-Supply-Chains/wandb/run-20210610_123606-kj683c44/logs/debug.log</code>"
      ],
      "text/plain": [
       "<IPython.core.display.HTML object>"
      ]
     },
     "metadata": {},
     "output_type": "display_data"
    },
    {
     "data": {
      "text/html": [
       "Find internal logs for this run at: <code>/Users/tim-bhp/PycharmProjects/link_predictions_supply_chains/Link-Prediction-Supply-Chains/wandb/run-20210610_123606-kj683c44/logs/debug-internal.log</code>"
      ],
      "text/plain": [
       "<IPython.core.display.HTML object>"
      ]
     },
     "metadata": {},
     "output_type": "display_data"
    },
    {
     "data": {
      "text/html": [
       "<h3>Run summary:</h3><br/><style>\n",
       "    table.wandb td:nth-child(1) { padding: 0 10px; text-align: right }\n",
       "    </style><table class=\"wandb\">\n",
       "<tr><td>_runtime</td><td>115</td></tr><tr><td>_timestamp</td><td>1623299881</td></tr><tr><td>_step</td><td>499</td></tr><tr><td>epoch</td><td>499</td></tr><tr><td>Training loss</td><td>0.40023</td></tr><tr><td>Training AUC capability_produces</td><td>0.99592</td></tr><tr><td>Training AUC buys_from</td><td>0.8985</td></tr><tr><td>Training AUC has_capability</td><td>0.52285</td></tr><tr><td>Training AUC has_cert</td><td>0.574</td></tr><tr><td>Training AUC located_in</td><td>0.66867</td></tr><tr><td>Training AUC makes_product</td><td>0.9928</td></tr><tr><td>Training AUC complimentary_product_to</td><td>1.0</td></tr><tr><td>Training AP capability_produces</td><td>0.96173</td></tr><tr><td>Training AP buys_from</td><td>0.46015</td></tr><tr><td>Training AP has_capability</td><td>0.10638</td></tr><tr><td>Training AP has_cert</td><td>0.11374</td></tr><tr><td>Training AP located_in</td><td>0.33608</td></tr><tr><td>Training AP makes_product</td><td>0.91522</td></tr><tr><td>Training AP complimentary_product_to</td><td>1.0</td></tr></table>"
      ],
      "text/plain": [
       "<IPython.core.display.HTML object>"
      ]
     },
     "metadata": {},
     "output_type": "display_data"
    },
    {
     "data": {
      "text/html": [
       "<h3>Run history:</h3><br/><style>\n",
       "    table.wandb td:nth-child(1) { padding: 0 10px; text-align: right }\n",
       "    </style><table class=\"wandb\">\n",
       "<tr><td>_runtime</td><td>▁▁▂▂▂▃▃▃▄▄▄▄▅▅▅▆▆▆▇▇▇▇███</td></tr><tr><td>_timestamp</td><td>▁▁▂▂▂▃▃▃▄▄▄▄▅▅▅▆▆▆▇▇▇▇███</td></tr><tr><td>_step</td><td>▁▁▂▂▂▂▃▃▄▄▄▄▅▅▅▅▆▆▆▇▇▇▇██</td></tr><tr><td>epoch</td><td>▁▁▂▂▂▃▃▃▄▄▄▅▅▅▅▆▆▆▇▇▇▇██</td></tr><tr><td>Training loss</td><td>█▁▂▄▃▆▄▅▄▄▄▆▆▂█▅▅▃▄▃▅▃▄▅</td></tr><tr><td>Training AUC capability_produces</td><td>███▇▅▇███▁██▅█████▃████▇</td></tr><tr><td>Training AUC buys_from</td><td>▄▆▇▆▅▇▇▅▅█▄▆▇▆▅▅▇▅▁▆▅▇▅▆</td></tr><tr><td>Training AUC has_capability</td><td>▂█▃▅▃▄▃▄▃▄▃▂▂▁▂▄▃▂▃▃▃▂▂▂</td></tr><tr><td>Training AUC has_cert</td><td>▅▇▆▅▇▇▅▇▆▅▄▁▂█▃▁▅▇▅▆▄▆▅▄</td></tr><tr><td>Training AUC located_in</td><td>▁█▇▆▆▄▆▄▇▆▇▆▇▆▃▆▅▅▆▇▅▆▅▆</td></tr><tr><td>Training AUC makes_product</td><td>▁▆█▇█▇█▇▇▇▆▇▇▇█▇▆█▇██▇█▆</td></tr><tr><td>Training AUC complimentary_product_to</td><td>▆▆▅▂▅▃▃▂▄▁▆▃▇▇▅▅▂▆▅▅▅▇▃█</td></tr><tr><td>Training AP capability_produces</td><td>███▇▁▇███▃██▅█████▂████▇</td></tr><tr><td>Training AP buys_from</td><td>▁▄█▄▂▃▄▂▄▅▂▅▂▅▂▅▃▂▂▅▂▃▁▃</td></tr><tr><td>Training AP has_capability</td><td>▂▇▃▇▁▃▄▃▂█▁▂▂▃▂▄▂▂▂▁▂▁▁▁</td></tr><tr><td>Training AP has_cert</td><td>▄▇▅▃▇▅▄▆▆▃▄▁▁█▁▁▅▇▄▆▃▅▅▂</td></tr><tr><td>Training AP located_in</td><td>▁▅█▄▃▁▃▁▃▅▄▃▃▂▂▅▄▂▃▃▂▄▂▄</td></tr><tr><td>Training AP makes_product</td><td>▁▂█▄█▅█▄▅▆▁▆▅▅█▆▄█▅▇█▅█▅</td></tr><tr><td>Training AP complimentary_product_to</td><td>▆▆▄▃▆▃▁▃▃▂▆▃▇█▆▅▃▆▅▅▄▇▂█</td></tr></table><br/>"
      ],
      "text/plain": [
       "<IPython.core.display.HTML object>"
      ]
     },
     "metadata": {},
     "output_type": "display_data"
    },
    {
     "data": {
      "text/html": [
       "Synced 6 W&B file(s), 1 media file(s), 0 artifact file(s) and 0 other file(s)"
      ],
      "text/plain": [
       "<IPython.core.display.HTML object>"
      ]
     },
     "metadata": {},
     "output_type": "display_data"
    },
    {
     "data": {
      "text/html": [
       "\n",
       "                    <br/>Synced <strong style=\"color:#cdcd00\">bumbling-sweep-5</strong>: <a href=\"https://wandb.ai/grandintegrator/KG-Completion-Sweep/runs/kj683c44\" target=\"_blank\">https://wandb.ai/grandintegrator/KG-Completion-Sweep/runs/kj683c44</a><br/>\n",
       "                "
      ],
      "text/plain": [
       "<IPython.core.display.HTML object>"
      ]
     },
     "metadata": {},
     "output_type": "display_data"
    },
    {
     "name": "stderr",
     "output_type": "stream",
     "text": [
      "\u001b[34m\u001b[1mwandb\u001b[0m: Agent Starting Run: wucord6m with config:\n",
      "\u001b[34m\u001b[1mwandb\u001b[0m: \tbatch_size: 12\n",
      "\u001b[34m\u001b[1mwandb\u001b[0m: \tcapability_product_weight_cut: 200\n",
      "\u001b[34m\u001b[1mwandb\u001b[0m: \tcg_weight_cut: 30\n",
      "\u001b[34m\u001b[1mwandb\u001b[0m: \tdevice: cpu\n",
      "\u001b[34m\u001b[1mwandb\u001b[0m: \teval_type: validation\n",
      "\u001b[34m\u001b[1mwandb\u001b[0m: \tevaluate_every: 3\n",
      "\u001b[34m\u001b[1mwandb\u001b[0m: \tfrom_scratch: False\n",
      "\u001b[34m\u001b[1mwandb\u001b[0m: \tgraph_save_path: data/02_intermediate/\n",
      "\u001b[34m\u001b[1mwandb\u001b[0m: \tl2_regularisation: 0.005\n",
      "\u001b[34m\u001b[1mwandb\u001b[0m: \tload_graph: True\n",
      "\u001b[34m\u001b[1mwandb\u001b[0m: \tlog_company_accuracy: False\n",
      "\u001b[34m\u001b[1mwandb\u001b[0m: \tlog_freq: 20\n",
      "\u001b[34m\u001b[1mwandb\u001b[0m: \tloss: margin\n",
      "\u001b[34m\u001b[1mwandb\u001b[0m: \tlr: 0.01\n",
      "\u001b[34m\u001b[1mwandb\u001b[0m: \tmomentum: 0.005\n",
      "\u001b[34m\u001b[1mwandb\u001b[0m: \tnum_classes: 2\n",
      "\u001b[34m\u001b[1mwandb\u001b[0m: \tnum_epochs: 2000\n",
      "\u001b[34m\u001b[1mwandb\u001b[0m: \tnum_hidden_graph_layers: 10\n",
      "\u001b[34m\u001b[1mwandb\u001b[0m: \tnum_negative_samples: 3\n",
      "\u001b[34m\u001b[1mwandb\u001b[0m: \tnum_node_features: 20\n",
      "\u001b[34m\u001b[1mwandb\u001b[0m: \tnum_workers: 0\n",
      "\u001b[34m\u001b[1mwandb\u001b[0m: \toptimiser: Adam\n",
      "\u001b[34m\u001b[1mwandb\u001b[0m: \tsave_train_results: False\n",
      "\u001b[34m\u001b[1mwandb\u001b[0m: \tstream_wandb: True\n",
      "\u001b[34m\u001b[1mwandb\u001b[0m: \ttest_p: 0.1\n",
      "\u001b[34m\u001b[1mwandb\u001b[0m: \ttriplets_from_scratch: False\n",
      "\u001b[34m\u001b[1mwandb\u001b[0m: \tvalid_p: 0.2\n"
     ]
    },
    {
     "data": {
      "text/html": [
       "\n",
       "                Tracking run with wandb version 0.10.31<br/>\n",
       "                Syncing run <strong style=\"color:#cdcd00\">vital-sweep-6</strong> to <a href=\"https://wandb.ai\" target=\"_blank\">Weights & Biases</a> <a href=\"https://docs.wandb.com/integrations/jupyter.html\" target=\"_blank\">(Documentation)</a>.<br/>\n",
       "                Project page: <a href=\"https://wandb.ai/grandintegrator/KG-Completion-Sweep\" target=\"_blank\">https://wandb.ai/grandintegrator/KG-Completion-Sweep</a><br/>\n",
       "                Sweep page: <a href=\"https://wandb.ai/grandintegrator/KG-Completion-Sweep/sweeps/gft3lks5\" target=\"_blank\">https://wandb.ai/grandintegrator/KG-Completion-Sweep/sweeps/gft3lks5</a><br/>\n",
       "Run page: <a href=\"https://wandb.ai/grandintegrator/KG-Completion-Sweep/runs/wucord6m\" target=\"_blank\">https://wandb.ai/grandintegrator/KG-Completion-Sweep/runs/wucord6m</a><br/>\n",
       "                Run data is saved locally in <code>/Users/tim-bhp/PycharmProjects/link_predictions_supply_chains/Link-Prediction-Supply-Chains/wandb/run-20210610_123808-wucord6m</code><br/><br/>\n",
       "            "
      ],
      "text/plain": [
       "<IPython.core.display.HTML object>"
      ]
     },
     "metadata": {},
     "output_type": "display_data"
    },
    {
     "name": "stderr",
     "output_type": "stream",
     "text": [
      "INFO:ingestion.dataset:Graphs loaded locally with the following dimensions:\n",
      "INFO:ingestion.dataset:====================================================\n",
      "INFO:ingestion.dataset:cG should have 14018 edges\n",
      "INFO:ingestion.dataset:bG should have 119618 edges\n",
      "INFO:ingestion.dataset:G should have 88997 edges\n",
      "INFO:ingestion.dataset:capability_product_graph should have 21575 edges\n",
      "INFO:ingestion.dataset:company_capability_graph should have 83787 edges\n",
      "INFO:ingestion.dataset:36 Capabilities\n",
      "INFO:ingestion.dataset:119618 Processes\n",
      "INFO:ingestion.dataset:41826 Companies\n",
      "INFO:ingestion.dataset:====================================================\n",
      "INFO:ingestion.dgl_dataset:All graphs loaded to memory - moving to process...\n",
      "INFO:ingestion.dgl_dataset:Triplets loaded from memory, processing to torch...\n",
      "\u001b[34m\u001b[1mwandb\u001b[0m: \u001b[33mWARNING\u001b[0m Config item 'lr' was locked by 'sweep' (ignored update).\n",
      "\u001b[34m\u001b[1mwandb\u001b[0m: \u001b[33mWARNING\u001b[0m Config item 'l2_regularisation' was locked by 'sweep' (ignored update).\n",
      " 14%|█▍        | 5319/37801 [10:23<1:03:29,  8.53it/s, loss=0.658]\n",
      "Run wucord6m errored: Exception('The wandb backend process has shutdown')\n",
      "\u001b[34m\u001b[1mwandb\u001b[0m: \u001b[32m\u001b[41mERROR\u001b[0m Run wucord6m errored: Exception('The wandb backend process has shutdown')\n",
      "\u001b[34m\u001b[1mwandb\u001b[0m: Agent Starting Run: ha5m2t0a with config:\n",
      "\u001b[34m\u001b[1mwandb\u001b[0m: \tbatch_size: 64\n",
      "\u001b[34m\u001b[1mwandb\u001b[0m: \tcapability_product_weight_cut: 200\n",
      "\u001b[34m\u001b[1mwandb\u001b[0m: \tcg_weight_cut: 30\n",
      "\u001b[34m\u001b[1mwandb\u001b[0m: \tdevice: cpu\n",
      "\u001b[34m\u001b[1mwandb\u001b[0m: \teval_type: validation\n",
      "\u001b[34m\u001b[1mwandb\u001b[0m: \tevaluate_every: 3\n",
      "\u001b[34m\u001b[1mwandb\u001b[0m: \tfrom_scratch: False\n",
      "\u001b[34m\u001b[1mwandb\u001b[0m: \tgraph_save_path: data/02_intermediate/\n",
      "\u001b[34m\u001b[1mwandb\u001b[0m: \tl2_regularisation: 0.0005\n",
      "\u001b[34m\u001b[1mwandb\u001b[0m: \tload_graph: True\n",
      "\u001b[34m\u001b[1mwandb\u001b[0m: \tlog_company_accuracy: False\n",
      "\u001b[34m\u001b[1mwandb\u001b[0m: \tlog_freq: 20\n",
      "\u001b[34m\u001b[1mwandb\u001b[0m: \tloss: margin\n",
      "\u001b[34m\u001b[1mwandb\u001b[0m: \tlr: 0.001\n",
      "\u001b[34m\u001b[1mwandb\u001b[0m: \tmomentum: 0.05\n",
      "\u001b[34m\u001b[1mwandb\u001b[0m: \tnum_classes: 2\n",
      "\u001b[34m\u001b[1mwandb\u001b[0m: \tnum_epochs: 8000\n",
      "\u001b[34m\u001b[1mwandb\u001b[0m: \tnum_hidden_graph_layers: 100\n",
      "\u001b[34m\u001b[1mwandb\u001b[0m: \tnum_negative_samples: 3\n",
      "\u001b[34m\u001b[1mwandb\u001b[0m: \tnum_node_features: 2\n",
      "\u001b[34m\u001b[1mwandb\u001b[0m: \tnum_workers: 0\n",
      "\u001b[34m\u001b[1mwandb\u001b[0m: \toptimiser: Adam\n",
      "\u001b[34m\u001b[1mwandb\u001b[0m: \tsave_train_results: False\n",
      "\u001b[34m\u001b[1mwandb\u001b[0m: \tstream_wandb: True\n",
      "\u001b[34m\u001b[1mwandb\u001b[0m: \ttest_p: 0.1\n",
      "\u001b[34m\u001b[1mwandb\u001b[0m: \ttriplets_from_scratch: False\n",
      "\u001b[34m\u001b[1mwandb\u001b[0m: \tvalid_p: 0.2\n"
     ]
    },
    {
     "data": {
      "text/html": [
       "\n",
       "                Tracking run with wandb version 0.10.31<br/>\n",
       "                Syncing run <strong style=\"color:#cdcd00\">ancient-sweep-7</strong> to <a href=\"https://wandb.ai\" target=\"_blank\">Weights & Biases</a> <a href=\"https://docs.wandb.com/integrations/jupyter.html\" target=\"_blank\">(Documentation)</a>.<br/>\n",
       "                Project page: <a href=\"https://wandb.ai/grandintegrator/KG-Completion-Sweep\" target=\"_blank\">https://wandb.ai/grandintegrator/KG-Completion-Sweep</a><br/>\n",
       "                Sweep page: <a href=\"https://wandb.ai/grandintegrator/KG-Completion-Sweep/sweeps/gft3lks5\" target=\"_blank\">https://wandb.ai/grandintegrator/KG-Completion-Sweep/sweeps/gft3lks5</a><br/>\n",
       "Run page: <a href=\"https://wandb.ai/grandintegrator/KG-Completion-Sweep/runs/ha5m2t0a\" target=\"_blank\">https://wandb.ai/grandintegrator/KG-Completion-Sweep/runs/ha5m2t0a</a><br/>\n",
       "                Run data is saved locally in <code>/Users/tim-bhp/PycharmProjects/link_predictions_supply_chains/Link-Prediction-Supply-Chains/wandb/run-20210610_124844-ha5m2t0a</code><br/><br/>\n",
       "            "
      ],
      "text/plain": [
       "<IPython.core.display.HTML object>"
      ]
     },
     "metadata": {},
     "output_type": "display_data"
    },
    {
     "name": "stderr",
     "output_type": "stream",
     "text": [
      "INFO:ingestion.dataset:Graphs loaded locally with the following dimensions:\n",
      "INFO:ingestion.dataset:====================================================\n",
      "INFO:ingestion.dataset:cG should have 14018 edges\n",
      "INFO:ingestion.dataset:bG should have 119618 edges\n",
      "INFO:ingestion.dataset:G should have 88997 edges\n",
      "INFO:ingestion.dataset:capability_product_graph should have 21575 edges\n",
      "INFO:ingestion.dataset:company_capability_graph should have 83787 edges\n",
      "INFO:ingestion.dataset:36 Capabilities\n",
      "INFO:ingestion.dataset:119618 Processes\n",
      "INFO:ingestion.dataset:41826 Companies\n",
      "INFO:ingestion.dataset:====================================================\n",
      "INFO:ingestion.dgl_dataset:All graphs loaded to memory - moving to process...\n",
      "INFO:ingestion.dgl_dataset:Triplets loaded from memory, processing to torch...\n",
      "\u001b[34m\u001b[1mwandb\u001b[0m: \u001b[33mWARNING\u001b[0m Config item 'lr' was locked by 'sweep' (ignored update).\n",
      "\u001b[34m\u001b[1mwandb\u001b[0m: \u001b[33mWARNING\u001b[0m Config item 'l2_regularisation' was locked by 'sweep' (ignored update).\n",
      " 38%|███▊      | 2663/7088 [13:18<24:31,  3.01it/s, loss=0.254]"
     ]
    }
   ],
   "source": [
    "wandb.agent(sweep_id, train, count=20)"
   ]
  },
  {
   "cell_type": "code",
   "execution_count": null,
   "metadata": {},
   "outputs": [],
   "source": []
  }
 ],
 "metadata": {
  "kernelspec": {
   "display_name": "link_prediction_supply_chains",
   "language": "python",
   "name": "link_prediction_supply_chains"
  },
  "language_info": {
   "codemirror_mode": {
    "name": "ipython",
    "version": 3
   },
   "file_extension": ".py",
   "mimetype": "text/x-python",
   "name": "python",
   "nbconvert_exporter": "python",
   "pygments_lexer": "ipython3",
   "version": "3.9.2"
  }
 },
 "nbformat": 4,
 "nbformat_minor": 2
}
