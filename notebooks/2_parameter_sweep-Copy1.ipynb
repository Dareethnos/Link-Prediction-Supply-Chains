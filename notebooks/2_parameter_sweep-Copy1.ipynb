{
 "cells": [
  {
   "cell_type": "markdown",
   "metadata": {},
   "source": [
    "# Running Sweeps 🚀"
   ]
  },
  {
   "cell_type": "code",
   "execution_count": 1,
   "metadata": {},
   "outputs": [],
   "source": [
    "import os\n",
    "os.chdir('../src')"
   ]
  },
  {
   "cell_type": "code",
   "execution_count": 2,
   "metadata": {},
   "outputs": [
    {
     "name": "stderr",
     "output_type": "stream",
     "text": [
      "Using backend: pytorch\n"
     ]
    }
   ],
   "source": [
    "import wandb\n",
    "import yaml\n",
    "from managers.trainer import Trainer\n",
    "from ingestion.dataloader import SCDataLoader\n",
    "from utils import create_model\n",
    "from typing import Dict, Any"
   ]
  },
  {
   "cell_type": "markdown",
   "metadata": {},
   "source": [
    "Loading config files - the normal and the sweep config file."
   ]
  },
  {
   "cell_type": "code",
   "execution_count": 3,
   "metadata": {},
   "outputs": [],
   "source": [
    "os.chdir('..')\n",
    "with open('config/sweep_config.yml', 'r') as yaml_file:\n",
    "    sweep_config_file = yaml.safe_load(yaml_file)"
   ]
  },
  {
   "cell_type": "markdown",
   "metadata": {},
   "source": [
    "Adding in metrics, parameters, and sweeping method into the `sweep_config` variable."
   ]
  },
  {
   "cell_type": "code",
   "execution_count": 4,
   "metadata": {},
   "outputs": [],
   "source": [
    "sweep_config = {\n",
    "    'method': 'bayes',\n",
    "    'parameters': sweep_config_file\n",
    "}"
   ]
  },
  {
   "cell_type": "code",
   "execution_count": 5,
   "metadata": {},
   "outputs": [],
   "source": [
    "metric = {\n",
    "    'name': 'Training AUC buys_from',\n",
    "    'goal': 'minimize'   \n",
    "}\n",
    "sweep_config['metric'] = metric"
   ]
  },
  {
   "cell_type": "markdown",
   "metadata": {},
   "source": [
    "Generate a sweep ID for `project=\"KG-Completion-Sweep\"`"
   ]
  },
  {
   "cell_type": "code",
   "execution_count": 6,
   "metadata": {},
   "outputs": [
    {
     "name": "stdout",
     "output_type": "stream",
     "text": [
      "Create sweep with ID: flp6ncui\n",
      "Sweep URL: https://wandb.ai/grandintegrator/KG-Completion-Sweep/sweeps/flp6ncui\n"
     ]
    }
   ],
   "source": [
    "sweep_id = wandb.sweep(sweep_config, project=\"KG-Completion-Sweep\")"
   ]
  },
  {
   "cell_type": "code",
   "execution_count": 7,
   "metadata": {},
   "outputs": [],
   "source": [
    "def train(config=None):\n",
    "    # Initialize a new weights and biases run\n",
    "    with wandb.init(config=config):\n",
    "        config = wandb.config\n",
    "        data_loader = SCDataLoader(params=config)\n",
    "        train_loader = data_loader.get_training_dataloader()\n",
    "        graph_model = \\\n",
    "            create_model(params=config,\n",
    "                         graph_edge_types=data_loader.edge_types)\n",
    "        trainer = Trainer(params=config, model=graph_model,\n",
    "                          train_data_loader=train_loader)\n",
    "        trainer.train()"
   ]
  },
  {
   "cell_type": "code",
   "execution_count": null,
   "metadata": {},
   "outputs": [
    {
     "name": "stderr",
     "output_type": "stream",
     "text": [
      "INFO:wandb.agents.pyagent:Starting sweep agent: entity=None, project=None, count=20\n",
      "\u001b[34m\u001b[1mwandb\u001b[0m: Agent Starting Run: u00mar9g with config:\n",
      "\u001b[34m\u001b[1mwandb\u001b[0m: \tbatch_size: 32\n",
      "\u001b[34m\u001b[1mwandb\u001b[0m: \tcapability_product_weight_cut: 200\n",
      "\u001b[34m\u001b[1mwandb\u001b[0m: \tcg_weight_cut: 30\n",
      "\u001b[34m\u001b[1mwandb\u001b[0m: \tdevice: cpu\n",
      "\u001b[34m\u001b[1mwandb\u001b[0m: \teval_type: validation\n",
      "\u001b[34m\u001b[1mwandb\u001b[0m: \tevaluate_every: 3\n",
      "\u001b[34m\u001b[1mwandb\u001b[0m: \tfrom_scratch: False\n",
      "\u001b[34m\u001b[1mwandb\u001b[0m: \tgraph_save_path: data/02_intermediate/\n",
      "\u001b[34m\u001b[1mwandb\u001b[0m: \tl2_regularisation: 0.05\n",
      "\u001b[34m\u001b[1mwandb\u001b[0m: \tload_graph: True\n",
      "\u001b[34m\u001b[1mwandb\u001b[0m: \tlog_company_accuracy: False\n",
      "\u001b[34m\u001b[1mwandb\u001b[0m: \tlog_freq: 20\n",
      "\u001b[34m\u001b[1mwandb\u001b[0m: \tloss: margin\n",
      "\u001b[34m\u001b[1mwandb\u001b[0m: \tlr: 0.01\n",
      "\u001b[34m\u001b[1mwandb\u001b[0m: \tmomentum: 0.005\n",
      "\u001b[34m\u001b[1mwandb\u001b[0m: \tnum_classes: 2\n",
      "\u001b[34m\u001b[1mwandb\u001b[0m: \tnum_epochs: 1000\n",
      "\u001b[34m\u001b[1mwandb\u001b[0m: \tnum_hidden_graph_layers: 100\n",
      "\u001b[34m\u001b[1mwandb\u001b[0m: \tnum_negative_samples: 3\n",
      "\u001b[34m\u001b[1mwandb\u001b[0m: \tnum_node_features: 20\n",
      "\u001b[34m\u001b[1mwandb\u001b[0m: \tnum_workers: 0\n",
      "\u001b[34m\u001b[1mwandb\u001b[0m: \toptimiser: Adam\n",
      "\u001b[34m\u001b[1mwandb\u001b[0m: \tsave_train_results: False\n",
      "\u001b[34m\u001b[1mwandb\u001b[0m: \tstream_wandb: True\n",
      "\u001b[34m\u001b[1mwandb\u001b[0m: \ttest_p: 0.1\n",
      "\u001b[34m\u001b[1mwandb\u001b[0m: \ttriplets_from_scratch: False\n",
      "\u001b[34m\u001b[1mwandb\u001b[0m: \tvalid_p: 0.2\n",
      "\u001b[34m\u001b[1mwandb\u001b[0m: Currently logged in as: \u001b[33mgrandintegrator\u001b[0m (use `wandb login --relogin` to force relogin)\n"
     ]
    },
    {
     "data": {
      "text/html": [
       "\n",
       "                Tracking run with wandb version 0.10.31<br/>\n",
       "                Syncing run <strong style=\"color:#cdcd00\">soft-sweep-1</strong> to <a href=\"https://wandb.ai\" target=\"_blank\">Weights & Biases</a> <a href=\"https://docs.wandb.com/integrations/jupyter.html\" target=\"_blank\">(Documentation)</a>.<br/>\n",
       "                Project page: <a href=\"https://wandb.ai/grandintegrator/KG-Completion-Sweep\" target=\"_blank\">https://wandb.ai/grandintegrator/KG-Completion-Sweep</a><br/>\n",
       "                Sweep page: <a href=\"https://wandb.ai/grandintegrator/KG-Completion-Sweep/sweeps/flp6ncui\" target=\"_blank\">https://wandb.ai/grandintegrator/KG-Completion-Sweep/sweeps/flp6ncui</a><br/>\n",
       "Run page: <a href=\"https://wandb.ai/grandintegrator/KG-Completion-Sweep/runs/u00mar9g\" target=\"_blank\">https://wandb.ai/grandintegrator/KG-Completion-Sweep/runs/u00mar9g</a><br/>\n",
       "                Run data is saved locally in <code>/Users/tim-bhp/PycharmProjects/link_predictions_supply_chains/Link-Prediction-Supply-Chains/wandb/run-20210610_111036-u00mar9g</code><br/><br/>\n",
       "            "
      ],
      "text/plain": [
       "<IPython.core.display.HTML object>"
      ]
     },
     "metadata": {},
     "output_type": "display_data"
    },
    {
     "name": "stderr",
     "output_type": "stream",
     "text": [
      "INFO:ingestion.dataset:Graphs loaded locally with the following dimensions:\n",
      "INFO:ingestion.dataset:====================================================\n",
      "INFO:ingestion.dataset:cG should have 14018 edges\n",
      "INFO:ingestion.dataset:bG should have 119618 edges\n",
      "INFO:ingestion.dataset:G should have 88997 edges\n",
      "INFO:ingestion.dataset:capability_product_graph should have 21575 edges\n",
      "INFO:ingestion.dataset:company_capability_graph should have 83787 edges\n",
      "INFO:ingestion.dataset:36 Capabilities\n",
      "INFO:ingestion.dataset:119618 Processes\n",
      "INFO:ingestion.dataset:41826 Companies\n",
      "INFO:ingestion.dataset:====================================================\n",
      "INFO:ingestion.dgl_dataset:All graphs loaded to memory - moving to process...\n",
      "INFO:ingestion.dgl_dataset:Triplets loaded from memory, processing to torch...\n",
      "\u001b[34m\u001b[1mwandb\u001b[0m: \u001b[33mWARNING\u001b[0m Config item 'lr' was locked by 'sweep' (ignored update).\n",
      "\u001b[34m\u001b[1mwandb\u001b[0m: \u001b[33mWARNING\u001b[0m Config item 'l2_regularisation' was locked by 'sweep' (ignored update).\n",
      "  7%|▋         | 1000/14176 [07:18<1:36:14,  2.28it/s, loss=0.205]\n"
     ]
    },
    {
     "data": {
      "text/html": [
       "<br/>Waiting for W&B process to finish, PID 71517<br/>Program ended successfully."
      ],
      "text/plain": [
       "<IPython.core.display.HTML object>"
      ]
     },
     "metadata": {},
     "output_type": "display_data"
    },
    {
     "data": {
      "application/vnd.jupyter.widget-view+json": {
       "model_id": "2419b422fb0d4b6991c21e2f0792f694",
       "version_major": 2,
       "version_minor": 0
      },
      "text/plain": [
       "VBox(children=(Label(value=' 0.01MB of 0.01MB uploaded (0.00MB deduped)\\r'), FloatProgress(value=1.0, max=1.0)…"
      ]
     },
     "metadata": {},
     "output_type": "display_data"
    },
    {
     "data": {
      "text/html": [
       "Find user logs for this run at: <code>/Users/tim-bhp/PycharmProjects/link_predictions_supply_chains/Link-Prediction-Supply-Chains/wandb/run-20210610_111036-u00mar9g/logs/debug.log</code>"
      ],
      "text/plain": [
       "<IPython.core.display.HTML object>"
      ]
     },
     "metadata": {},
     "output_type": "display_data"
    },
    {
     "data": {
      "text/html": [
       "Find internal logs for this run at: <code>/Users/tim-bhp/PycharmProjects/link_predictions_supply_chains/Link-Prediction-Supply-Chains/wandb/run-20210610_111036-u00mar9g/logs/debug-internal.log</code>"
      ],
      "text/plain": [
       "<IPython.core.display.HTML object>"
      ]
     },
     "metadata": {},
     "output_type": "display_data"
    },
    {
     "data": {
      "text/html": [
       "<h3>Run summary:</h3><br/><style>\n",
       "    table.wandb td:nth-child(1) { padding: 0 10px; text-align: right }\n",
       "    </style><table class=\"wandb\">\n",
       "<tr><td>epoch</td><td>979</td></tr><tr><td>Training loss</td><td>0.39139</td></tr><tr><td>Training AUC capability_produces</td><td>1.0</td></tr><tr><td>Training AUC buys_from</td><td>0.95625</td></tr><tr><td>Training AUC has_capability</td><td>0.45</td></tr><tr><td>Training AUC has_cert</td><td>0.66111</td></tr><tr><td>Training AUC located_in</td><td>0.7</td></tr><tr><td>Training AUC makes_product</td><td>1.0</td></tr><tr><td>Training AUC complimentary_product_to</td><td>0.99467</td></tr><tr><td>Training AP capability_produces</td><td>1.0</td></tr><tr><td>Training AP buys_from</td><td>0.84091</td></tr><tr><td>Training AP has_capability</td><td>0.15</td></tr><tr><td>Training AP has_cert</td><td>0.15446</td></tr><tr><td>Training AP located_in</td><td>0.25</td></tr><tr><td>Training AP makes_product</td><td>1.0</td></tr><tr><td>Training AP complimentary_product_to</td><td>0.92552</td></tr><tr><td>_runtime</td><td>450</td></tr><tr><td>_timestamp</td><td>1623295086</td></tr><tr><td>_step</td><td>979</td></tr></table>"
      ],
      "text/plain": [
       "<IPython.core.display.HTML object>"
      ]
     },
     "metadata": {},
     "output_type": "display_data"
    },
    {
     "data": {
      "text/html": [
       "<h3>Run history:</h3><br/><style>\n",
       "    table.wandb td:nth-child(1) { padding: 0 10px; text-align: right }\n",
       "    </style><table class=\"wandb\">\n",
       "<tr><td>epoch</td><td>▁▁▁▁▂▂▂▂▂▂▃▃▃▃▃▄▄▄▄▅▅▅▅▅▆▆▆▆▆▇▇▇▇▇▇████</td></tr><tr><td>Training loss</td><td>▄█▂▂▃▂▂▂▂▂▂▁▂▂▂▁▂▃▂▂▂▁▂▁▂▂▂▂▂▂▂▂▂▁▂▂▂▂▂</td></tr><tr><td>Training AUC capability_produces</td><td>████████████████████▁████</td></tr><tr><td>Training AUC buys_from</td><td>▃▁▄▃▆▂▁▇▄▇▅█▅▇▂▆▅▅█▄▁▃▇▁▇▁▅▄▁▅▅▄▅█▆▃▇▄▇</td></tr><tr><td>Training AUC has_capability</td><td>▄▄▆▄▃▇▄▄▄▂▇▅▆▁▄▇▄▇▄▄▅█▄▅▅▇▃▃▃▄▄▇▃▄▇▃▆▁▁</td></tr><tr><td>Training AUC has_cert</td><td>▃▅▄▇▅▆█▆▇▄▅█▆▇▅█▅▂▆▄█▇█▇▇█▄▄▆▇▇▇▇▇▅▆▁▃▅</td></tr><tr><td>Training AUC located_in</td><td>▅▁█▇▄▇▅▅▆▆▂█▇█▆▇▆▅█▇▆▇▇▇▆███▅▇▇▇▄▇▆▇▆▇▅</td></tr><tr><td>Training AUC makes_product</td><td>█▅▆▁▂█▆▇█▆▆██▆█████▆▇█████▇██▆▄▇██▇████</td></tr><tr><td>Training AUC complimentary_product_to</td><td>█▂█▇█▇█▇██▄█▆▆█▆▅▁██▇▇▅▆██▇▇▇██▆▅█▇█▆▆▆</td></tr><tr><td>Training AP capability_produces</td><td>████████████████████▁████</td></tr><tr><td>Training AP buys_from</td><td>▃▅▄▁▃▄▂▇▃▅▃▇▃▄▇▄▃▂█▃▃▂▄▄▇▂▄▄▁▂▃▂▃▇▄▃▇▄▇</td></tr><tr><td>Training AP has_capability</td><td>▂▁▆▁▁▆▂▂▃▁▃▂▃▁▅▅▂▄▂▂▂█▂▂▂▃▅▂▁▂▃▄▅▂▃▂▃▃▁</td></tr><tr><td>Training AP has_cert</td><td>▁▂▁▃▂▂▆▂▃▂▁█▂▃▂▆▂▁▂▂▄▄▄▃▂▄▂▁▂▃▃▃▄▃▂▂▁▁▁</td></tr><tr><td>Training AP located_in</td><td>▃▁▆▅▂▆▂▂▂▅▁█▅█▂▅▅▂▅▄▃▅▄▄▂█▄█▅▃▄▃▁▄▅▃▅▃▂</td></tr><tr><td>Training AP makes_product</td><td>█▆▆▂▁█▅▇█▅▅██▅█████▆▇█████▇██▄▂▆██▇████</td></tr><tr><td>Training AP complimentary_product_to</td><td>█▄█▇█▇████▄█▆▆█▆▅▁██▇▇▆▇████▇██▆▅█▇█▄▇▆</td></tr><tr><td>_runtime</td><td>▁▁▁▁▂▂▂▂▂▂▃▃▃▃▃▄▄▄▄▅▅▅▅▆▆▆▆▆▆▇▇▇▇▇▇████</td></tr><tr><td>_timestamp</td><td>▁▁▁▁▂▂▂▂▂▂▃▃▃▃▃▄▄▄▄▅▅▅▅▆▆▆▆▆▆▇▇▇▇▇▇████</td></tr><tr><td>_step</td><td>▁▁▁▁▂▂▂▂▂▂▃▃▃▃▃▄▄▄▄▅▅▅▅▅▆▆▆▆▆▇▇▇▇▇▇████</td></tr></table><br/>"
      ],
      "text/plain": [
       "<IPython.core.display.HTML object>"
      ]
     },
     "metadata": {},
     "output_type": "display_data"
    },
    {
     "data": {
      "text/html": [
       "Synced 6 W&B file(s), 1 media file(s), 0 artifact file(s) and 0 other file(s)"
      ],
      "text/plain": [
       "<IPython.core.display.HTML object>"
      ]
     },
     "metadata": {},
     "output_type": "display_data"
    },
    {
     "data": {
      "text/html": [
       "\n",
       "                    <br/>Synced <strong style=\"color:#cdcd00\">soft-sweep-1</strong>: <a href=\"https://wandb.ai/grandintegrator/KG-Completion-Sweep/runs/u00mar9g\" target=\"_blank\">https://wandb.ai/grandintegrator/KG-Completion-Sweep/runs/u00mar9g</a><br/>\n",
       "                "
      ],
      "text/plain": [
       "<IPython.core.display.HTML object>"
      ]
     },
     "metadata": {},
     "output_type": "display_data"
    },
    {
     "name": "stderr",
     "output_type": "stream",
     "text": [
      "\u001b[34m\u001b[1mwandb\u001b[0m: Agent Starting Run: pwzjl087 with config:\n",
      "\u001b[34m\u001b[1mwandb\u001b[0m: \tbatch_size: 32\n",
      "\u001b[34m\u001b[1mwandb\u001b[0m: \tcapability_product_weight_cut: 200\n",
      "\u001b[34m\u001b[1mwandb\u001b[0m: \tcg_weight_cut: 30\n",
      "\u001b[34m\u001b[1mwandb\u001b[0m: \tdevice: cpu\n",
      "\u001b[34m\u001b[1mwandb\u001b[0m: \teval_type: validation\n",
      "\u001b[34m\u001b[1mwandb\u001b[0m: \tevaluate_every: 3\n",
      "\u001b[34m\u001b[1mwandb\u001b[0m: \tfrom_scratch: False\n",
      "\u001b[34m\u001b[1mwandb\u001b[0m: \tgraph_save_path: data/02_intermediate/\n",
      "\u001b[34m\u001b[1mwandb\u001b[0m: \tl2_regularisation: 0.0005\n",
      "\u001b[34m\u001b[1mwandb\u001b[0m: \tload_graph: True\n",
      "\u001b[34m\u001b[1mwandb\u001b[0m: \tlog_company_accuracy: False\n",
      "\u001b[34m\u001b[1mwandb\u001b[0m: \tlog_freq: 20\n",
      "\u001b[34m\u001b[1mwandb\u001b[0m: \tloss: margin\n",
      "\u001b[34m\u001b[1mwandb\u001b[0m: \tlr: 1e-05\n",
      "\u001b[34m\u001b[1mwandb\u001b[0m: \tmomentum: 0.05\n",
      "\u001b[34m\u001b[1mwandb\u001b[0m: \tnum_classes: 2\n",
      "\u001b[34m\u001b[1mwandb\u001b[0m: \tnum_epochs: 2000\n",
      "\u001b[34m\u001b[1mwandb\u001b[0m: \tnum_hidden_graph_layers: 1000\n",
      "\u001b[34m\u001b[1mwandb\u001b[0m: \tnum_negative_samples: 3\n",
      "\u001b[34m\u001b[1mwandb\u001b[0m: \tnum_node_features: 50\n",
      "\u001b[34m\u001b[1mwandb\u001b[0m: \tnum_workers: 0\n",
      "\u001b[34m\u001b[1mwandb\u001b[0m: \toptimiser: Adam\n",
      "\u001b[34m\u001b[1mwandb\u001b[0m: \tsave_train_results: False\n",
      "\u001b[34m\u001b[1mwandb\u001b[0m: \tstream_wandb: True\n",
      "\u001b[34m\u001b[1mwandb\u001b[0m: \ttest_p: 0.1\n",
      "\u001b[34m\u001b[1mwandb\u001b[0m: \ttriplets_from_scratch: False\n",
      "\u001b[34m\u001b[1mwandb\u001b[0m: \tvalid_p: 0.2\n"
     ]
    },
    {
     "data": {
      "text/html": [
       "\n",
       "                Tracking run with wandb version 0.10.31<br/>\n",
       "                Syncing run <strong style=\"color:#cdcd00\">gentle-sweep-2</strong> to <a href=\"https://wandb.ai\" target=\"_blank\">Weights & Biases</a> <a href=\"https://docs.wandb.com/integrations/jupyter.html\" target=\"_blank\">(Documentation)</a>.<br/>\n",
       "                Project page: <a href=\"https://wandb.ai/grandintegrator/KG-Completion-Sweep\" target=\"_blank\">https://wandb.ai/grandintegrator/KG-Completion-Sweep</a><br/>\n",
       "                Sweep page: <a href=\"https://wandb.ai/grandintegrator/KG-Completion-Sweep/sweeps/flp6ncui\" target=\"_blank\">https://wandb.ai/grandintegrator/KG-Completion-Sweep/sweeps/flp6ncui</a><br/>\n",
       "Run page: <a href=\"https://wandb.ai/grandintegrator/KG-Completion-Sweep/runs/pwzjl087\" target=\"_blank\">https://wandb.ai/grandintegrator/KG-Completion-Sweep/runs/pwzjl087</a><br/>\n",
       "                Run data is saved locally in <code>/Users/tim-bhp/PycharmProjects/link_predictions_supply_chains/Link-Prediction-Supply-Chains/wandb/run-20210610_111812-pwzjl087</code><br/><br/>\n",
       "            "
      ],
      "text/plain": [
       "<IPython.core.display.HTML object>"
      ]
     },
     "metadata": {},
     "output_type": "display_data"
    },
    {
     "name": "stderr",
     "output_type": "stream",
     "text": [
      "INFO:ingestion.dataset:Graphs loaded locally with the following dimensions:\n",
      "INFO:ingestion.dataset:====================================================\n",
      "INFO:ingestion.dataset:cG should have 14018 edges\n",
      "INFO:ingestion.dataset:bG should have 119618 edges\n",
      "INFO:ingestion.dataset:G should have 88997 edges\n",
      "INFO:ingestion.dataset:capability_product_graph should have 21575 edges\n",
      "INFO:ingestion.dataset:company_capability_graph should have 83787 edges\n",
      "INFO:ingestion.dataset:36 Capabilities\n",
      "INFO:ingestion.dataset:119618 Processes\n",
      "INFO:ingestion.dataset:41826 Companies\n",
      "INFO:ingestion.dataset:====================================================\n",
      "INFO:ingestion.dgl_dataset:All graphs loaded to memory - moving to process...\n",
      "INFO:ingestion.dgl_dataset:Triplets loaded from memory, processing to torch...\n",
      "\u001b[34m\u001b[1mwandb\u001b[0m: \u001b[33mWARNING\u001b[0m Config item 'lr' was locked by 'sweep' (ignored update).\n",
      "\u001b[34m\u001b[1mwandb\u001b[0m: \u001b[33mWARNING\u001b[0m Config item 'l2_regularisation' was locked by 'sweep' (ignored update).\n",
      " 22%|██▏       | 3142/14176 [1:26:27<5:39:13,  1.84s/it, loss=0.518]"
     ]
    }
   ],
   "source": [
    "wandb.agent(sweep_id, train, count=20)"
   ]
  },
  {
   "cell_type": "code",
   "execution_count": null,
   "metadata": {},
   "outputs": [],
   "source": []
  },
  {
   "cell_type": "code",
   "execution_count": null,
   "metadata": {},
   "outputs": [],
   "source": []
  },
  {
   "cell_type": "code",
   "execution_count": null,
   "metadata": {},
   "outputs": [],
   "source": []
  },
  {
   "cell_type": "code",
   "execution_count": null,
   "metadata": {},
   "outputs": [],
   "source": []
  },
  {
   "cell_type": "code",
   "execution_count": null,
   "metadata": {},
   "outputs": [],
   "source": []
  },
  {
   "cell_type": "code",
   "execution_count": null,
   "metadata": {},
   "outputs": [],
   "source": []
  }
 ],
 "metadata": {
  "kernelspec": {
   "display_name": "link_prediction_supply_chains",
   "language": "python",
   "name": "link_prediction_supply_chains"
  },
  "language_info": {
   "codemirror_mode": {
    "name": "ipython",
    "version": 3
   },
   "file_extension": ".py",
   "mimetype": "text/x-python",
   "name": "python",
   "nbconvert_exporter": "python",
   "pygments_lexer": "ipython3",
   "version": "3.9.2"
  }
 },
 "nbformat": 4,
 "nbformat_minor": 2
}
